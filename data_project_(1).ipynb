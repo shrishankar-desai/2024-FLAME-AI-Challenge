{
  "cells": [
    {
      "cell_type": "markdown",
      "metadata": {
        "id": "view-in-github",
        "colab_type": "text"
      },
      "source": [
        "<a href=\"https://colab.research.google.com/github/shrishankar-desai/2024-FLAME-AI-Challenge/blob/main/data_project_(1).ipynb\" target=\"_parent\"><img src=\"https://colab.research.google.com/assets/colab-badge.svg\" alt=\"Open In Colab\"/></a>"
      ]
    },
    {
      "cell_type": "markdown",
      "id": "929f7f3c-bffc-4ceb-8816-f828b6859229",
      "metadata": {
        "id": "929f7f3c-bffc-4ceb-8816-f828b6859229"
      },
      "source": [
        "# FLAME AI Challenge"
      ]
    },
    {
      "cell_type": "markdown",
      "id": "1aa37973-296d-431c-b8f4-91767d642ffc",
      "metadata": {
        "id": "1aa37973-296d-431c-b8f4-91767d642ffc"
      },
      "source": [
        "## Importing .dat file"
      ]
    },
    {
      "cell_type": "code",
      "execution_count": null,
      "id": "a93217ba-b8bc-440f-a0e9-c339a8a7db8b",
      "metadata": {
        "id": "a93217ba-b8bc-440f-a0e9-c339a8a7db8b"
      },
      "outputs": [],
      "source": [
        "import numpy as np\n",
        "import pandas as pd"
      ]
    },
    {
      "cell_type": "code",
      "execution_count": null,
      "id": "0e21c945-8d97-437e-83b3-193c09cbf69e",
      "metadata": {
        "id": "0e21c945-8d97-437e-83b3-193c09cbf69e"
      },
      "outputs": [],
      "source": [
        "#importing all the data set.\n",
        "\n",
        "fire_train_metadata = pd.read_csv('2024-flame-ai-challenge/dataset/train.csv')\n",
        "fire_test_metadata = pd.read_csv('2024-flame-ai-challenge/dataset/test.csv')\n",
        "train_data= r'2024-flame-ai-challenge/dataset/train'\n",
        "test_data=r'2024-flame-ai-challenge/dataset/test'"
      ]
    },
    {
      "cell_type": "code",
      "execution_count": null,
      "id": "6a6b36de-bc63-43a1-ae41-27af610c448a",
      "metadata": {
        "id": "6a6b36de-bc63-43a1-ae41-27af610c448a",
        "outputId": "a26103b1-e70e-4b54-d22c-7e9c8ffb9bfe"
      },
      "outputs": [
        {
          "data": {
            "text/html": [
              "<div>\n",
              "<style scoped>\n",
              "    .dataframe tbody tr th:only-of-type {\n",
              "        vertical-align: middle;\n",
              "    }\n",
              "\n",
              "    .dataframe tbody tr th {\n",
              "        vertical-align: top;\n",
              "    }\n",
              "\n",
              "    .dataframe thead th {\n",
              "        text-align: right;\n",
              "    }\n",
              "</style>\n",
              "<table border=\"1\" class=\"dataframe\">\n",
              "  <thead>\n",
              "    <tr style=\"text-align: right;\">\n",
              "      <th></th>\n",
              "      <th>id</th>\n",
              "      <th>u</th>\n",
              "      <th>alpha</th>\n",
              "      <th>Nt</th>\n",
              "      <th>Nx</th>\n",
              "      <th>Ny</th>\n",
              "      <th>theta_filename</th>\n",
              "      <th>ustar_filename</th>\n",
              "      <th>xi_filename</th>\n",
              "    </tr>\n",
              "  </thead>\n",
              "  <tbody>\n",
              "    <tr>\n",
              "      <th>0</th>\n",
              "      <td>804025</td>\n",
              "      <td>2</td>\n",
              "      <td>10</td>\n",
              "      <td>150</td>\n",
              "      <td>113</td>\n",
              "      <td>32</td>\n",
              "      <td>theta_K_id804025.dat</td>\n",
              "      <td>ustar_ms-1_id804025.dat</td>\n",
              "      <td>xi_id804025.dat</td>\n",
              "    </tr>\n",
              "    <tr>\n",
              "      <th>1</th>\n",
              "      <td>875935</td>\n",
              "      <td>2</td>\n",
              "      <td>5</td>\n",
              "      <td>150</td>\n",
              "      <td>113</td>\n",
              "      <td>32</td>\n",
              "      <td>theta_K_id875935.dat</td>\n",
              "      <td>ustar_ms-1_id875935.dat</td>\n",
              "      <td>xi_id875935.dat</td>\n",
              "    </tr>\n",
              "    <tr>\n",
              "      <th>2</th>\n",
              "      <td>930086</td>\n",
              "      <td>6</td>\n",
              "      <td>0</td>\n",
              "      <td>150</td>\n",
              "      <td>113</td>\n",
              "      <td>32</td>\n",
              "      <td>theta_K_id930086.dat</td>\n",
              "      <td>ustar_ms-1_id930086.dat</td>\n",
              "      <td>xi_id930086.dat</td>\n",
              "    </tr>\n",
              "    <tr>\n",
              "      <th>3</th>\n",
              "      <td>661713</td>\n",
              "      <td>4</td>\n",
              "      <td>5</td>\n",
              "      <td>150</td>\n",
              "      <td>113</td>\n",
              "      <td>32</td>\n",
              "      <td>theta_K_id661713.dat</td>\n",
              "      <td>ustar_ms-1_id661713.dat</td>\n",
              "      <td>xi_id661713.dat</td>\n",
              "    </tr>\n",
              "    <tr>\n",
              "      <th>4</th>\n",
              "      <td>633229</td>\n",
              "      <td>2</td>\n",
              "      <td>0</td>\n",
              "      <td>150</td>\n",
              "      <td>113</td>\n",
              "      <td>32</td>\n",
              "      <td>theta_K_id633229.dat</td>\n",
              "      <td>ustar_ms-1_id633229.dat</td>\n",
              "      <td>xi_id633229.dat</td>\n",
              "    </tr>\n",
              "  </tbody>\n",
              "</table>\n",
              "</div>"
            ],
            "text/plain": [
              "       id  u  alpha   Nt   Nx  Ny        theta_filename  \\\n",
              "0  804025  2     10  150  113  32  theta_K_id804025.dat   \n",
              "1  875935  2      5  150  113  32  theta_K_id875935.dat   \n",
              "2  930086  6      0  150  113  32  theta_K_id930086.dat   \n",
              "3  661713  4      5  150  113  32  theta_K_id661713.dat   \n",
              "4  633229  2      0  150  113  32  theta_K_id633229.dat   \n",
              "\n",
              "            ustar_filename      xi_filename  \n",
              "0  ustar_ms-1_id804025.dat  xi_id804025.dat  \n",
              "1  ustar_ms-1_id875935.dat  xi_id875935.dat  \n",
              "2  ustar_ms-1_id930086.dat  xi_id930086.dat  \n",
              "3  ustar_ms-1_id661713.dat  xi_id661713.dat  \n",
              "4  ustar_ms-1_id633229.dat  xi_id633229.dat  "
            ]
          },
          "execution_count": 56,
          "metadata": {},
          "output_type": "execute_result"
        }
      ],
      "source": [
        "fire_train_metadata.head()"
      ]
    },
    {
      "cell_type": "code",
      "execution_count": null,
      "id": "30dbb8ac-138c-41ed-8184-dd5cc373527d",
      "metadata": {
        "id": "30dbb8ac-138c-41ed-8184-dd5cc373527d"
      },
      "outputs": [],
      "source": [
        "import os\n",
        "def fire_data_import(meta_data,data_path):\n",
        "\n",
        "    x=[]\n",
        "    for i,row in meta_data.iterrows():\n",
        "        nt, Nx, Ny = row['Nt'], row['Nx'], row['Ny']\n",
        "        theta = np.fromfile(os.path.join(data_path, row['theta_filename']), dtype=\"<f4\").reshape(nt, Nx, Ny)\n",
        "        ustar = np.fromfile(os.path.join(data_path, row['ustar_filename']), dtype=\"<f4\").reshape(nt, Nx, Ny)\n",
        "        xi_f = np.fromfile(os.path.join(data_path, row['xi_filename']), dtype=\"<f4\").reshape(nt, Nx, Ny)\n",
        "\n",
        "        # mentioning shape of metadata for column u and alpha\n",
        "        u  = np.array(row['u'])\n",
        "        alpha = np.array(row['alpha'])\n",
        "        # transfering theta value for the shape like metadata\n",
        "        u = np.full_like(theta,u)\n",
        "        alpha = np.full_like(theta,alpha)\n",
        "        #appending normalized values\n",
        "        x.append(np.stack([xi_f,theta/1_000,u/50,alpha/50,ustar/50],axis=-1))\n",
        "    return x\n"
      ]
    },
    {
      "cell_type": "markdown",
      "id": "6a02d660-da5d-4560-96dd-0dc436f547a7",
      "metadata": {
        "id": "6a02d660-da5d-4560-96dd-0dc436f547a7"
      },
      "source": [
        "# Import train data"
      ]
    },
    {
      "cell_type": "code",
      "execution_count": null,
      "id": "a2b7e155-25c0-44ac-8180-64d6c4c10971",
      "metadata": {
        "id": "a2b7e155-25c0-44ac-8180-64d6c4c10971",
        "outputId": "da098b06-fbb8-4277-9a14-00ce8ce3602a"
      },
      "outputs": [
        {
          "name": "stdout",
          "output_type": "stream",
          "text": [
            "(9, 150, 113, 32, 5)\n"
          ]
        }
      ],
      "source": [
        "train=fire_data_import(fire_train_metadata,train_data)\n",
        "train = np.array(train)\n",
        "print(train.shape)"
      ]
    },
    {
      "cell_type": "code",
      "execution_count": null,
      "id": "7428cad6-ac42-44c7-8d73-0252300035b5",
      "metadata": {
        "id": "7428cad6-ac42-44c7-8d73-0252300035b5",
        "outputId": "ac3c10e4-1c6c-4820-d6a3-ea8cef52c60b"
      },
      "outputs": [
        {
          "data": {
            "text/plain": [
              "(9, 150, 5, 113, 32)"
            ]
          },
          "execution_count": 59,
          "metadata": {},
          "output_type": "execute_result"
        }
      ],
      "source": [
        "train=train.transpose(0, 1, 4, 2, 3)\n",
        "train.shape"
      ]
    },
    {
      "cell_type": "code",
      "execution_count": null,
      "id": "dec7bc57-a120-483e-8d3b-78685266459a",
      "metadata": {
        "id": "dec7bc57-a120-483e-8d3b-78685266459a",
        "outputId": "eeafe3b3-9b58-43f1-e089-293e20f604b6"
      },
      "outputs": [
        {
          "name": "stdout",
          "output_type": "stream",
          "text": [
            "(9, 144, 5, 116, 32) (9, 144, 5, 116, 32)\n"
          ]
        }
      ],
      "source": [
        "length_of_datax=6\n",
        "length_of_datay=20\n",
        "train = np.pad(train, pad_width=((0, 0), (0, 0), (0, 0), (0, 3), (0, 0)), mode='edge')\n",
        "y = train[:,length_of_datax:]\n",
        "x = train[:,:-length_of_datax]\n",
        "\n",
        "print(x.shape,y.shape)"
      ]
    },
    {
      "cell_type": "markdown",
      "id": "eadd8330-56c4-4473-a76b-6657e3807653",
      "metadata": {
        "id": "eadd8330-56c4-4473-a76b-6657e3807653"
      },
      "source": [
        "## creating 2 data flattened data frames for features and target"
      ]
    },
    {
      "cell_type": "markdown",
      "id": "f081803f-afda-456f-a328-891426ee276a",
      "metadata": {
        "id": "f081803f-afda-456f-a328-891426ee276a"
      },
      "source": [
        "# Import actual test data"
      ]
    },
    {
      "cell_type": "code",
      "execution_count": null,
      "id": "254cc2f1-28ac-42bc-b4bc-e66ad12421dc",
      "metadata": {
        "id": "254cc2f1-28ac-42bc-b4bc-e66ad12421dc",
        "outputId": "91acd5f0-85f2-4b58-8184-e2389f5de989"
      },
      "outputs": [
        {
          "name": "stdout",
          "output_type": "stream",
          "text": [
            "(9, 150, 5, 116, 32)\n"
          ]
        }
      ],
      "source": [
        "test=fire_data_import(fire_test_metadata,test_data)\n",
        "test = np.array(train)\n",
        "print(test.shape)"
      ]
    },
    {
      "cell_type": "code",
      "execution_count": null,
      "id": "0eb1aea4-6318-49fc-9fae-d4357d9498f6",
      "metadata": {
        "id": "0eb1aea4-6318-49fc-9fae-d4357d9498f6",
        "outputId": "793efaf9-3996-473c-b64e-653da8e986a6"
      },
      "outputs": [
        {
          "name": "stdout",
          "output_type": "stream",
          "text": [
            "(9, 144, 5, 116, 32) (9, 144, 5, 116, 32)\n"
          ]
        }
      ],
      "source": [
        "y_actual_test = test[:,length_of_datax:]\n",
        "x_actual_test = test[:,:-length_of_datax]\n",
        "\n",
        "print(x_actual_test.shape,y_actual_test.shape)"
      ]
    },
    {
      "cell_type": "markdown",
      "id": "3368290f-7654-4975-ac8b-92c1e77eefa2",
      "metadata": {
        "id": "3368290f-7654-4975-ac8b-92c1e77eefa2"
      },
      "source": [
        "# visualizing"
      ]
    },
    {
      "cell_type": "code",
      "execution_count": null,
      "id": "077c1d3d-a52c-4629-a57e-a007b1ea39d3",
      "metadata": {
        "id": "077c1d3d-a52c-4629-a57e-a007b1ea39d3",
        "outputId": "65ce1552-f712-4699-e721-98425d166cc7"
      },
      "outputs": [
        {
          "data": {
            "image/png": "[encoded data removed]",
            "text/plain": [
              "<Figure size 640x480 with 2 Axes>"
            ]
          },
          "metadata": {},
          "output_type": "display_data"
        }
      ],
      "source": [
        "import matplotlib.pyplot as plt\n",
        "\n",
        "# Plot a sample grid for fire-line (xi_f)\n",
        "sample_idx = 4  # Index of the simulation sample\n",
        "time_idx = 3    # Time step to visualize\n",
        "\n",
        "plt.imshow(x[sample_idx, time_idx, 0], cmap=\"hot\")  # Fire-line is in channel 0\n",
        "plt.colorbar()\n",
        "plt.title(\"Fire-line Grid (Sample 4, Time 3)\")\n",
        "plt.show()"
      ]
    },
    {
      "cell_type": "code",
      "execution_count": null,
      "id": "a648c91b-2cbb-429b-8faa-0ce4c4a95e10",
      "metadata": {
        "id": "a648c91b-2cbb-429b-8faa-0ce4c4a95e10",
        "outputId": "f0f8fbc4-8426-4a59-c49a-429c43829f2f"
      },
      "outputs": [
        {
          "data": {
            "image/png": "[encoded data removed]",
            "text/plain": [
              "<Figure size 640x480 with 1 Axes>"
            ]
          },
          "metadata": {},
          "output_type": "display_data"
        }
      ],
      "source": [
        "# Plot mean values over time for fire-line in a single simulation\n",
        "fire_line_values = x[sample_idx, :, 0].mean(axis=(1, 2))\n",
        "\n",
        "plt.plot(fire_line_values)\n",
        "plt.title(\"Mean Fire-line Intensity Over Time (Sample 0)\")\n",
        "plt.xlabel(\"Time Step\")\n",
        "plt.ylabel(\"Mean Intensity\")\n",
        "plt.show()"
      ]
    },
    {
      "cell_type": "markdown",
      "id": "21b2aa3a-ee97-42be-8a72-af5f79ee1cd4",
      "metadata": {
        "id": "21b2aa3a-ee97-42be-8a72-af5f79ee1cd4"
      },
      "source": [
        "# preprocessing"
      ]
    },
    {
      "cell_type": "code",
      "execution_count": null,
      "id": "ac5ffa47-88c6-4011-95c0-35a6fb41b7c3",
      "metadata": {
        "id": "ac5ffa47-88c6-4011-95c0-35a6fb41b7c3",
        "outputId": "7e9871f9-993c-480b-ce13-74b12498069b"
      },
      "outputs": [
        {
          "name": "stdout",
          "output_type": "stream",
          "text": [
            "Missing values: 0\n",
            "Infinite values: 0\n"
          ]
        }
      ],
      "source": [
        "print(\"Missing values:\", np.isnan(x).sum())\n",
        "print(\"Infinite values:\", np.isinf(x).sum())"
      ]
    },
    {
      "cell_type": "code",
      "execution_count": null,
      "id": "0580281d-f4c3-47d6-b18c-df1707ec9789",
      "metadata": {
        "id": "0580281d-f4c3-47d6-b18c-df1707ec9789",
        "outputId": "3d35c6c6-e2e4-429a-8119-96c623078515"
      },
      "outputs": [
        {
          "name": "stdout",
          "output_type": "stream",
          "text": [
            "(9, 144, 5, 116, 32)\n",
            "(9, 144, 5, 116, 32)\n",
            "(9, 144, 5, 116, 32)\n",
            "(9, 144, 5, 116, 32)\n"
          ]
        }
      ],
      "source": [
        "print(x.shape)\n",
        "print(y.shape)\n",
        "print(x_actual_test.shape)\n",
        "print(y_actual_test.shape)"
      ]
    },
    {
      "cell_type": "markdown",
      "id": "3d47f1af-38b8-4240-9487-7e794d6a6003",
      "metadata": {
        "id": "3d47f1af-38b8-4240-9487-7e794d6a6003"
      },
      "source": [
        "# Splitting data"
      ]
    },
    {
      "cell_type": "code",
      "execution_count": null,
      "id": "030254a1-6e57-4727-affd-82c0e52cb375",
      "metadata": {
        "id": "030254a1-6e57-4727-affd-82c0e52cb375"
      },
      "outputs": [],
      "source": [
        "from sklearn.model_selection import train_test_split\n",
        "\n",
        "X_train, X_test, y_train, y_test = train_test_split(x, y, test_size=0.2, random_state=42)"
      ]
    },
    {
      "cell_type": "markdown",
      "id": "cb47a1ea-51a8-4cee-9818-bad85d23a2ef",
      "metadata": {
        "id": "cb47a1ea-51a8-4cee-9818-bad85d23a2ef"
      },
      "source": [
        "# Temporal slicing of train data"
      ]
    },
    {
      "cell_type": "code",
      "execution_count": null,
      "id": "5b78ad89-aeae-4c6b-8dd0-160683b1224c",
      "metadata": {
        "id": "5b78ad89-aeae-4c6b-8dd0-160683b1224c",
        "outputId": "4551ce58-20f0-405e-d966-2e9decfa6631"
      },
      "outputs": [
        {
          "name": "stdout",
          "output_type": "stream",
          "text": [
            "Sliced X_train shape: (875, 19, 5, 116, 32)\n",
            "Sliced y_train shape: (875, 1, 5, 116, 32)\n",
            "Sliced X_val shape: (250, 19, 5, 116, 32)\n",
            "Sliced y_val shape: (250, 1, 5, 116, 32)\n"
          ]
        }
      ],
      "source": [
        "import numpy as np\n",
        "\n",
        "input_seq_length = 19\n",
        "output_seq_length = 1\n",
        "step = 1\n",
        "\n",
        "def slice_dataset(data_x, data_y, input_seq_length, output_seq_length):\n",
        "    x_slices = []\n",
        "    y_slices = []\n",
        "\n",
        "    # Iterate over simulations in the dataset\n",
        "    for i in range(len(data_x)):\n",
        "        # Slice each simulation into overlapping windows\n",
        "        for j in range(len(data_x[i]) - input_seq_length - output_seq_length + 1):\n",
        "            x_slices.append(data_x[i, j:j + input_seq_length])\n",
        "            y_slices.append(data_y[i, j + input_seq_length:j + input_seq_length + output_seq_length])\n",
        "\n",
        "    return np.array(x_slices), np.array(y_slices)\n",
        "\n",
        "\n",
        "# Apply to training, validation, and test datasets\n",
        "X_train_sliced, y_train_sliced = slice_dataset(X_train, y_train, input_seq_length, output_seq_length)\n",
        "X_val_sliced, y_val_sliced = slice_dataset(X_test, y_test, input_seq_length, output_seq_length)\n",
        "\n",
        "\n",
        "# Print shapes\n",
        "print(f\"Sliced X_train shape: {X_train_sliced.shape}\")\n",
        "print(f\"Sliced y_train shape: {y_train_sliced.shape}\")\n",
        "print(f\"Sliced X_val shape: {X_val_sliced.shape}\")\n",
        "print(f\"Sliced y_val shape: {y_val_sliced.shape}\")"
      ]
    },
    {
      "cell_type": "markdown",
      "id": "255fc2d1-1be2-41a2-bfa3-9506d28c8084",
      "metadata": {
        "id": "255fc2d1-1be2-41a2-bfa3-9506d28c8084"
      },
      "source": [
        "# model implimenting"
      ]
    },
    {
      "cell_type": "markdown",
      "id": "4c0c58db-f49e-49fd-b274-d27cc8f4a5dd",
      "metadata": {
        "id": "4c0c58db-f49e-49fd-b274-d27cc8f4a5dd"
      },
      "source": [
        "## CNN model"
      ]
    },
    {
      "cell_type": "code",
      "execution_count": null,
      "id": "813109d7",
      "metadata": {
        "id": "813109d7",
        "outputId": "2d272380-7cbd-4ce1-f164-00377defaef6"
      },
      "outputs": [
        {
          "name": "stderr",
          "output_type": "stream",
          "text": [
            "/Users/abhi/anaconda3/lib/python3.11/site-packages/keras/src/layers/convolutional/base_conv.py:107: UserWarning: Do not pass an `input_shape`/`input_dim` argument to a layer. When using Sequential models, prefer using an `Input(shape)` object as the first layer in the model instead.\n",
            "  super().__init__(activity_regularizer=activity_regularizer, **kwargs)\n"
          ]
        }
      ],
      "source": [
        "import tensorflow as tf\n",
        "from tensorflow.keras import Sequential\n",
        "from tensorflow.keras.layers import (Conv3D, BatchNormalization, MaxPooling3D, Flatten, Dense, Dropout, Reshape)\n",
        "\n",
        "height = 5\n",
        "width = 116\n",
        "features = 32\n",
        "model = Sequential([\n",
        "    Conv3D(32, kernel_size=(3, 1, 3), activation='relu', input_shape=(19, 5, 116, 32)),\n",
        "    BatchNormalization(),\n",
        "    MaxPooling3D(pool_size=(2, 1, 2)),\n",
        "    Conv3D(64, kernel_size=(3, 1, 3), activation='relu'),\n",
        "    BatchNormalization(),\n",
        "    MaxPooling3D(pool_size=(2, 1, 2)),\n",
        "    Flatten(),\n",
        "    Dense(128, activation='relu'),\n",
        "    Dropout(0.5),\n",
        "    Dense(aft_seq_length * height * width * features, activation='linear'),\n",
        "    Reshape((aft_seq_length, height, width, features))\n",
        "])\n"
      ]
    },
    {
      "cell_type": "code",
      "execution_count": null,
      "id": "c458d702-a5b3-4a6b-ae23-530cc4eb7125",
      "metadata": {
        "id": "c458d702-a5b3-4a6b-ae23-530cc4eb7125",
        "outputId": "670c6677-613b-4529-9f2b-534c9a45d44b"
      },
      "outputs": [
        {
          "data": {
            "text/html": [
              "<pre style=\"white-space:pre;overflow-x:auto;line-height:normal;font-family:Menlo,'DejaVu Sans Mono',consolas,'Courier New',monospace\"><span style=\"font-weight: bold\">Model: \"sequential_2\"</span>\n",
              "</pre>\n"
            ],
            "text/plain": [
              "\u001b[1mModel: \"sequential_2\"\u001b[0m\n"
            ]
          },
          "metadata": {},
          "output_type": "display_data"
        },
        {
          "data": {
            "text/html": [
              "<pre style=\"white-space:pre;overflow-x:auto;line-height:normal;font-family:Menlo,'DejaVu Sans Mono',consolas,'Courier New',monospace\">┏━━━━━━━━━━━━━━━━━━━━━━━━━━━━━━━━━┳━━━━━━━━━━━━━━━━━━━━━━━━┳━━━━━━━━━━━━━━━┓\n",
              "┃<span style=\"font-weight: bold\"> Layer (type)                    </span>┃<span style=\"font-weight: bold\"> Output Shape           </span>┃<span style=\"font-weight: bold\">       Param # </span>┃\n",
              "┡━━━━━━━━━━━━━━━━━━━━━━━━━━━━━━━━━╇━━━━━━━━━━━━━━━━━━━━━━━━╇━━━━━━━━━━━━━━━┩\n",
              "│ conv3d_2 (<span style=\"color: #0087ff; text-decoration-color: #0087ff\">Conv3D</span>)               │ (<span style=\"color: #00d7ff; text-decoration-color: #00d7ff\">None</span>, <span style=\"color: #00af00; text-decoration-color: #00af00\">17</span>, <span style=\"color: #00af00; text-decoration-color: #00af00\">5</span>, <span style=\"color: #00af00; text-decoration-color: #00af00\">114</span>, <span style=\"color: #00af00; text-decoration-color: #00af00\">32</span>) │         <span style=\"color: #00af00; text-decoration-color: #00af00\">9,248</span> │\n",
              "├─────────────────────────────────┼────────────────────────┼───────────────┤\n",
              "│ batch_normalization_2           │ (<span style=\"color: #00d7ff; text-decoration-color: #00d7ff\">None</span>, <span style=\"color: #00af00; text-decoration-color: #00af00\">17</span>, <span style=\"color: #00af00; text-decoration-color: #00af00\">5</span>, <span style=\"color: #00af00; text-decoration-color: #00af00\">114</span>, <span style=\"color: #00af00; text-decoration-color: #00af00\">32</span>) │           <span style=\"color: #00af00; text-decoration-color: #00af00\">128</span> │\n",
              "│ (<span style=\"color: #0087ff; text-decoration-color: #0087ff\">BatchNormalization</span>)            │                        │               │\n",
              "├─────────────────────────────────┼────────────────────────┼───────────────┤\n",
              "│ max_pooling3d_2 (<span style=\"color: #0087ff; text-decoration-color: #0087ff\">MaxPooling3D</span>)  │ (<span style=\"color: #00d7ff; text-decoration-color: #00d7ff\">None</span>, <span style=\"color: #00af00; text-decoration-color: #00af00\">8</span>, <span style=\"color: #00af00; text-decoration-color: #00af00\">5</span>, <span style=\"color: #00af00; text-decoration-color: #00af00\">57</span>, <span style=\"color: #00af00; text-decoration-color: #00af00\">32</span>)   │             <span style=\"color: #00af00; text-decoration-color: #00af00\">0</span> │\n",
              "├─────────────────────────────────┼────────────────────────┼───────────────┤\n",
              "│ conv3d_3 (<span style=\"color: #0087ff; text-decoration-color: #0087ff\">Conv3D</span>)               │ (<span style=\"color: #00d7ff; text-decoration-color: #00d7ff\">None</span>, <span style=\"color: #00af00; text-decoration-color: #00af00\">6</span>, <span style=\"color: #00af00; text-decoration-color: #00af00\">5</span>, <span style=\"color: #00af00; text-decoration-color: #00af00\">55</span>, <span style=\"color: #00af00; text-decoration-color: #00af00\">64</span>)   │        <span style=\"color: #00af00; text-decoration-color: #00af00\">18,496</span> │\n",
              "├─────────────────────────────────┼────────────────────────┼───────────────┤\n",
              "│ batch_normalization_3           │ (<span style=\"color: #00d7ff; text-decoration-color: #00d7ff\">None</span>, <span style=\"color: #00af00; text-decoration-color: #00af00\">6</span>, <span style=\"color: #00af00; text-decoration-color: #00af00\">5</span>, <span style=\"color: #00af00; text-decoration-color: #00af00\">55</span>, <span style=\"color: #00af00; text-decoration-color: #00af00\">64</span>)   │           <span style=\"color: #00af00; text-decoration-color: #00af00\">256</span> │\n",
              "│ (<span style=\"color: #0087ff; text-decoration-color: #0087ff\">BatchNormalization</span>)            │                        │               │\n",
              "├─────────────────────────────────┼────────────────────────┼───────────────┤\n",
              "│ max_pooling3d_3 (<span style=\"color: #0087ff; text-decoration-color: #0087ff\">MaxPooling3D</span>)  │ (<span style=\"color: #00d7ff; text-decoration-color: #00d7ff\">None</span>, <span style=\"color: #00af00; text-decoration-color: #00af00\">3</span>, <span style=\"color: #00af00; text-decoration-color: #00af00\">5</span>, <span style=\"color: #00af00; text-decoration-color: #00af00\">27</span>, <span style=\"color: #00af00; text-decoration-color: #00af00\">64</span>)   │             <span style=\"color: #00af00; text-decoration-color: #00af00\">0</span> │\n",
              "├─────────────────────────────────┼────────────────────────┼───────────────┤\n",
              "│ flatten_1 (<span style=\"color: #0087ff; text-decoration-color: #0087ff\">Flatten</span>)             │ (<span style=\"color: #00d7ff; text-decoration-color: #00d7ff\">None</span>, <span style=\"color: #00af00; text-decoration-color: #00af00\">25920</span>)          │             <span style=\"color: #00af00; text-decoration-color: #00af00\">0</span> │\n",
              "├─────────────────────────────────┼────────────────────────┼───────────────┤\n",
              "│ dense_4 (<span style=\"color: #0087ff; text-decoration-color: #0087ff\">Dense</span>)                 │ (<span style=\"color: #00d7ff; text-decoration-color: #00d7ff\">None</span>, <span style=\"color: #00af00; text-decoration-color: #00af00\">128</span>)            │     <span style=\"color: #00af00; text-decoration-color: #00af00\">3,317,888</span> │\n",
              "├─────────────────────────────────┼────────────────────────┼───────────────┤\n",
              "│ dropout_3 (<span style=\"color: #0087ff; text-decoration-color: #0087ff\">Dropout</span>)             │ (<span style=\"color: #00d7ff; text-decoration-color: #00d7ff\">None</span>, <span style=\"color: #00af00; text-decoration-color: #00af00\">128</span>)            │             <span style=\"color: #00af00; text-decoration-color: #00af00\">0</span> │\n",
              "├─────────────────────────────────┼────────────────────────┼───────────────┤\n",
              "│ dense_5 (<span style=\"color: #0087ff; text-decoration-color: #0087ff\">Dense</span>)                 │ (<span style=\"color: #00d7ff; text-decoration-color: #00d7ff\">None</span>, <span style=\"color: #00af00; text-decoration-color: #00af00\">18560</span>)          │     <span style=\"color: #00af00; text-decoration-color: #00af00\">2,394,240</span> │\n",
              "├─────────────────────────────────┼────────────────────────┼───────────────┤\n",
              "│ reshape_3 (<span style=\"color: #0087ff; text-decoration-color: #0087ff\">Reshape</span>)             │ (<span style=\"color: #00d7ff; text-decoration-color: #00d7ff\">None</span>, <span style=\"color: #00af00; text-decoration-color: #00af00\">1</span>, <span style=\"color: #00af00; text-decoration-color: #00af00\">5</span>, <span style=\"color: #00af00; text-decoration-color: #00af00\">116</span>, <span style=\"color: #00af00; text-decoration-color: #00af00\">32</span>)  │             <span style=\"color: #00af00; text-decoration-color: #00af00\">0</span> │\n",
              "└─────────────────────────────────┴────────────────────────┴───────────────┘\n",
              "</pre>\n"
            ],
            "text/plain": [
              "┏━━━━━━━━━━━━━━━━━━━━━━━━━━━━━━━━━┳━━━━━━━━━━━━━━━━━━━━━━━━┳━━━━━━━━━━━━━━━┓\n",
              "┃\u001b[1m \u001b[0m\u001b[1mLayer (type)                   \u001b[0m\u001b[1m \u001b[0m┃\u001b[1m \u001b[0m\u001b[1mOutput Shape          \u001b[0m\u001b[1m \u001b[0m┃\u001b[1m \u001b[0m\u001b[1m      Param #\u001b[0m\u001b[1m \u001b[0m┃\n",
              "┡━━━━━━━━━━━━━━━━━━━━━━━━━━━━━━━━━╇━━━━━━━━━━━━━━━━━━━━━━━━╇━━━━━━━━━━━━━━━┩\n",
              "│ conv3d_2 (\u001b[38;5;33mConv3D\u001b[0m)               │ (\u001b[38;5;45mNone\u001b[0m, \u001b[38;5;34m17\u001b[0m, \u001b[38;5;34m5\u001b[0m, \u001b[38;5;34m114\u001b[0m, \u001b[38;5;34m32\u001b[0m) │         \u001b[38;5;34m9,248\u001b[0m │\n",
              "├─────────────────────────────────┼────────────────────────┼───────────────┤\n",
              "│ batch_normalization_2           │ (\u001b[38;5;45mNone\u001b[0m, \u001b[38;5;34m17\u001b[0m, \u001b[38;5;34m5\u001b[0m, \u001b[38;5;34m114\u001b[0m, \u001b[38;5;34m32\u001b[0m) │           \u001b[38;5;34m128\u001b[0m │\n",
              "│ (\u001b[38;5;33mBatchNormalization\u001b[0m)            │                        │               │\n",
              "├─────────────────────────────────┼────────────────────────┼───────────────┤\n",
              "│ max_pooling3d_2 (\u001b[38;5;33mMaxPooling3D\u001b[0m)  │ (\u001b[38;5;45mNone\u001b[0m, \u001b[38;5;34m8\u001b[0m, \u001b[38;5;34m5\u001b[0m, \u001b[38;5;34m57\u001b[0m, \u001b[38;5;34m32\u001b[0m)   │             \u001b[38;5;34m0\u001b[0m │\n",
              "├─────────────────────────────────┼────────────────────────┼───────────────┤\n",
              "│ conv3d_3 (\u001b[38;5;33mConv3D\u001b[0m)               │ (\u001b[38;5;45mNone\u001b[0m, \u001b[38;5;34m6\u001b[0m, \u001b[38;5;34m5\u001b[0m, \u001b[38;5;34m55\u001b[0m, \u001b[38;5;34m64\u001b[0m)   │        \u001b[38;5;34m18,496\u001b[0m │\n",
              "├─────────────────────────────────┼────────────────────────┼───────────────┤\n",
              "│ batch_normalization_3           │ (\u001b[38;5;45mNone\u001b[0m, \u001b[38;5;34m6\u001b[0m, \u001b[38;5;34m5\u001b[0m, \u001b[38;5;34m55\u001b[0m, \u001b[38;5;34m64\u001b[0m)   │           \u001b[38;5;34m256\u001b[0m │\n",
              "│ (\u001b[38;5;33mBatchNormalization\u001b[0m)            │                        │               │\n",
              "├─────────────────────────────────┼────────────────────────┼───────────────┤\n",
              "│ max_pooling3d_3 (\u001b[38;5;33mMaxPooling3D\u001b[0m)  │ (\u001b[38;5;45mNone\u001b[0m, \u001b[38;5;34m3\u001b[0m, \u001b[38;5;34m5\u001b[0m, \u001b[38;5;34m27\u001b[0m, \u001b[38;5;34m64\u001b[0m)   │             \u001b[38;5;34m0\u001b[0m │\n",
              "├─────────────────────────────────┼────────────────────────┼───────────────┤\n",
              "│ flatten_1 (\u001b[38;5;33mFlatten\u001b[0m)             │ (\u001b[38;5;45mNone\u001b[0m, \u001b[38;5;34m25920\u001b[0m)          │             \u001b[38;5;34m0\u001b[0m │\n",
              "├─────────────────────────────────┼────────────────────────┼───────────────┤\n",
              "│ dense_4 (\u001b[38;5;33mDense\u001b[0m)                 │ (\u001b[38;5;45mNone\u001b[0m, \u001b[38;5;34m128\u001b[0m)            │     \u001b[38;5;34m3,317,888\u001b[0m │\n",
              "├─────────────────────────────────┼────────────────────────┼───────────────┤\n",
              "│ dropout_3 (\u001b[38;5;33mDropout\u001b[0m)             │ (\u001b[38;5;45mNone\u001b[0m, \u001b[38;5;34m128\u001b[0m)            │             \u001b[38;5;34m0\u001b[0m │\n",
              "├─────────────────────────────────┼────────────────────────┼───────────────┤\n",
              "│ dense_5 (\u001b[38;5;33mDense\u001b[0m)                 │ (\u001b[38;5;45mNone\u001b[0m, \u001b[38;5;34m18560\u001b[0m)          │     \u001b[38;5;34m2,394,240\u001b[0m │\n",
              "├─────────────────────────────────┼────────────────────────┼───────────────┤\n",
              "│ reshape_3 (\u001b[38;5;33mReshape\u001b[0m)             │ (\u001b[38;5;45mNone\u001b[0m, \u001b[38;5;34m1\u001b[0m, \u001b[38;5;34m5\u001b[0m, \u001b[38;5;34m116\u001b[0m, \u001b[38;5;34m32\u001b[0m)  │             \u001b[38;5;34m0\u001b[0m │\n",
              "└─────────────────────────────────┴────────────────────────┴───────────────┘\n"
            ]
          },
          "metadata": {},
          "output_type": "display_data"
        },
        {
          "data": {
            "text/html": [
              "<pre style=\"white-space:pre;overflow-x:auto;line-height:normal;font-family:Menlo,'DejaVu Sans Mono',consolas,'Courier New',monospace\"><span style=\"font-weight: bold\"> Total params: </span><span style=\"color: #00af00; text-decoration-color: #00af00\">5,740,256</span> (21.90 MB)\n",
              "</pre>\n"
            ],
            "text/plain": [
              "\u001b[1m Total params: \u001b[0m\u001b[38;5;34m5,740,256\u001b[0m (21.90 MB)\n"
            ]
          },
          "metadata": {},
          "output_type": "display_data"
        },
        {
          "data": {
            "text/html": [
              "<pre style=\"white-space:pre;overflow-x:auto;line-height:normal;font-family:Menlo,'DejaVu Sans Mono',consolas,'Courier New',monospace\"><span style=\"font-weight: bold\"> Trainable params: </span><span style=\"color: #00af00; text-decoration-color: #00af00\">5,740,064</span> (21.90 MB)\n",
              "</pre>\n"
            ],
            "text/plain": [
              "\u001b[1m Trainable params: \u001b[0m\u001b[38;5;34m5,740,064\u001b[0m (21.90 MB)\n"
            ]
          },
          "metadata": {},
          "output_type": "display_data"
        },
        {
          "data": {
            "text/html": [
              "<pre style=\"white-space:pre;overflow-x:auto;line-height:normal;font-family:Menlo,'DejaVu Sans Mono',consolas,'Courier New',monospace\"><span style=\"font-weight: bold\"> Non-trainable params: </span><span style=\"color: #00af00; text-decoration-color: #00af00\">192</span> (768.00 B)\n",
              "</pre>\n"
            ],
            "text/plain": [
              "\u001b[1m Non-trainable params: \u001b[0m\u001b[38;5;34m192\u001b[0m (768.00 B)\n"
            ]
          },
          "metadata": {},
          "output_type": "display_data"
        }
      ],
      "source": [
        "model.compile(optimizer='adam', loss='mse', metrics=['mae'])\n",
        "model.summary()"
      ]
    },
    {
      "cell_type": "code",
      "execution_count": null,
      "id": "0c08e38d-ded5-4c60-9a9f-83f42fbeef85",
      "metadata": {
        "id": "0c08e38d-ded5-4c60-9a9f-83f42fbeef85",
        "outputId": "80f48f24-ed67-4798-b2ac-5c0882fff3df"
      },
      "outputs": [
        {
          "name": "stdout",
          "output_type": "stream",
          "text": [
            "Epoch 1/50\n",
            "\u001b[1m110/110\u001b[0m \u001b[32m━━━━━━━━━━━━━━━━━━━━\u001b[0m\u001b[37m\u001b[0m \u001b[1m16s\u001b[0m 139ms/step - loss: 0.0301 - mae: 0.1176 - val_loss: 0.0176 - val_mae: 0.0897\n",
            "Epoch 2/50\n",
            "\u001b[1m110/110\u001b[0m \u001b[32m━━━━━━━━━━━━━━━━━━━━\u001b[0m\u001b[37m\u001b[0m \u001b[1m13s\u001b[0m 118ms/step - loss: 0.0136 - mae: 0.0728 - val_loss: 0.0114 - val_mae: 0.0701\n",
            "Epoch 3/50\n",
            "\u001b[1m110/110\u001b[0m \u001b[32m━━━━━━━━━━━━━━━━━━━━\u001b[0m\u001b[37m\u001b[0m \u001b[1m13s\u001b[0m 119ms/step - loss: 0.0094 - mae: 0.0571 - val_loss: 0.0093 - val_mae: 0.0596\n",
            "Epoch 4/50\n",
            "\u001b[1m110/110\u001b[0m \u001b[32m━━━━━━━━━━━━━━━━━━━━\u001b[0m\u001b[37m\u001b[0m \u001b[1m13s\u001b[0m 117ms/step - loss: 0.0079 - mae: 0.0482 - val_loss: 0.0087 - val_mae: 0.0533\n",
            "Epoch 5/50\n",
            "\u001b[1m110/110\u001b[0m \u001b[32m━━━━━━━━━━━━━━━━━━━━\u001b[0m\u001b[37m\u001b[0m \u001b[1m13s\u001b[0m 120ms/step - loss: 0.0074 - mae: 0.0426 - val_loss: 0.0086 - val_mae: 0.0509\n",
            "Epoch 6/50\n",
            "\u001b[1m110/110\u001b[0m \u001b[32m━━━━━━━━━━━━━━━━━━━━\u001b[0m\u001b[37m\u001b[0m \u001b[1m14s\u001b[0m 125ms/step - loss: 0.0072 - mae: 0.0406 - val_loss: 0.0086 - val_mae: 0.0499\n",
            "Epoch 7/50\n",
            "\u001b[1m110/110\u001b[0m \u001b[32m━━━━━━━━━━━━━━━━━━━━\u001b[0m\u001b[37m\u001b[0m \u001b[1m14s\u001b[0m 130ms/step - loss: 0.0073 - mae: 0.0402 - val_loss: 0.0085 - val_mae: 0.0496\n",
            "Epoch 8/50\n",
            "\u001b[1m110/110\u001b[0m \u001b[32m━━━━━━━━━━━━━━━━━━━━\u001b[0m\u001b[37m\u001b[0m \u001b[1m13s\u001b[0m 117ms/step - loss: 0.0073 - mae: 0.0401 - val_loss: 0.0086 - val_mae: 0.0500\n",
            "Epoch 9/50\n",
            "\u001b[1m110/110\u001b[0m \u001b[32m━━━━━━━━━━━━━━━━━━━━\u001b[0m\u001b[37m\u001b[0m \u001b[1m15s\u001b[0m 140ms/step - loss: 0.0073 - mae: 0.0402 - val_loss: 0.0087 - val_mae: 0.0503\n",
            "Epoch 10/50\n",
            "\u001b[1m110/110\u001b[0m \u001b[32m━━━━━━━━━━━━━━━━━━━━\u001b[0m\u001b[37m\u001b[0m \u001b[1m13s\u001b[0m 121ms/step - loss: 0.0073 - mae: 0.0403 - val_loss: 0.0086 - val_mae: 0.0498\n",
            "Epoch 11/50\n",
            "\u001b[1m110/110\u001b[0m \u001b[32m━━━━━━━━━━━━━━━━━━━━\u001b[0m\u001b[37m\u001b[0m \u001b[1m12s\u001b[0m 107ms/step - loss: 0.0073 - mae: 0.0405 - val_loss: 0.0088 - val_mae: 0.0511\n",
            "Epoch 12/50\n",
            "\u001b[1m110/110\u001b[0m \u001b[32m━━━━━━━━━━━━━━━━━━━━\u001b[0m\u001b[37m\u001b[0m \u001b[1m13s\u001b[0m 115ms/step - loss: 0.0073 - mae: 0.0401 - val_loss: 0.0086 - val_mae: 0.0497\n",
            "Epoch 13/50\n",
            "\u001b[1m110/110\u001b[0m \u001b[32m━━━━━━━━━━━━━━━━━━━━\u001b[0m\u001b[37m\u001b[0m \u001b[1m11s\u001b[0m 98ms/step - loss: 0.0072 - mae: 0.0396 - val_loss: 0.0086 - val_mae: 0.0501\n",
            "Epoch 14/50\n",
            "\u001b[1m110/110\u001b[0m \u001b[32m━━━━━━━━━━━━━━━━━━━━\u001b[0m\u001b[37m\u001b[0m \u001b[1m10s\u001b[0m 94ms/step - loss: 0.0072 - mae: 0.0401 - val_loss: 0.0086 - val_mae: 0.0503\n",
            "Epoch 15/50\n",
            "\u001b[1m110/110\u001b[0m \u001b[32m━━━━━━━━━━━━━━━━━━━━\u001b[0m\u001b[37m\u001b[0m \u001b[1m10s\u001b[0m 93ms/step - loss: 0.0073 - mae: 0.0401 - val_loss: 0.0087 - val_mae: 0.0507\n",
            "Epoch 16/50\n",
            "\u001b[1m110/110\u001b[0m \u001b[32m━━━━━━━━━━━━━━━━━━━━\u001b[0m\u001b[37m\u001b[0m \u001b[1m11s\u001b[0m 95ms/step - loss: 0.0071 - mae: 0.0393 - val_loss: 0.0085 - val_mae: 0.0493\n",
            "Epoch 17/50\n",
            "\u001b[1m110/110\u001b[0m \u001b[32m━━━━━━━━━━━━━━━━━━━━\u001b[0m\u001b[37m\u001b[0m \u001b[1m10s\u001b[0m 94ms/step - loss: 0.0073 - mae: 0.0404 - val_loss: 0.0088 - val_mae: 0.0512\n",
            "Epoch 18/50\n",
            "\u001b[1m110/110\u001b[0m \u001b[32m━━━━━━━━━━━━━━━━━━━━\u001b[0m\u001b[37m\u001b[0m \u001b[1m10s\u001b[0m 93ms/step - loss: 0.0073 - mae: 0.0404 - val_loss: 0.0087 - val_mae: 0.0505\n",
            "Epoch 19/50\n",
            "\u001b[1m110/110\u001b[0m \u001b[32m━━━━━━━━━━━━━━━━━━━━\u001b[0m\u001b[37m\u001b[0m \u001b[1m10s\u001b[0m 93ms/step - loss: 0.0073 - mae: 0.0400 - val_loss: 0.0086 - val_mae: 0.0499\n",
            "Epoch 20/50\n",
            "\u001b[1m110/110\u001b[0m \u001b[32m━━━━━━━━━━━━━━━━━━━━\u001b[0m\u001b[37m\u001b[0m \u001b[1m10s\u001b[0m 93ms/step - loss: 0.0072 - mae: 0.0398 - val_loss: 0.0086 - val_mae: 0.0499\n",
            "Epoch 21/50\n",
            "\u001b[1m110/110\u001b[0m \u001b[32m━━━━━━━━━━━━━━━━━━━━\u001b[0m\u001b[37m\u001b[0m \u001b[1m10s\u001b[0m 93ms/step - loss: 0.0072 - mae: 0.0398 - val_loss: 0.0086 - val_mae: 0.0503\n",
            "Epoch 22/50\n",
            "\u001b[1m110/110\u001b[0m \u001b[32m━━━━━━━━━━━━━━━━━━━━\u001b[0m\u001b[37m\u001b[0m \u001b[1m10s\u001b[0m 94ms/step - loss: 0.0072 - mae: 0.0395 - val_loss: 0.0086 - val_mae: 0.0504\n",
            "Epoch 23/50\n",
            "\u001b[1m110/110\u001b[0m \u001b[32m━━━━━━━━━━━━━━━━━━━━\u001b[0m\u001b[37m\u001b[0m \u001b[1m10s\u001b[0m 93ms/step - loss: 0.0073 - mae: 0.0404 - val_loss: 0.0086 - val_mae: 0.0501\n",
            "Epoch 24/50\n",
            "\u001b[1m110/110\u001b[0m \u001b[32m━━━━━━━━━━━━━━━━━━━━\u001b[0m\u001b[37m\u001b[0m \u001b[1m10s\u001b[0m 94ms/step - loss: 0.0073 - mae: 0.0400 - val_loss: 0.0086 - val_mae: 0.0500\n",
            "Epoch 25/50\n",
            "\u001b[1m110/110\u001b[0m \u001b[32m━━━━━━━━━━━━━━━━━━━━\u001b[0m\u001b[37m\u001b[0m \u001b[1m10s\u001b[0m 93ms/step - loss: 0.0074 - mae: 0.0403 - val_loss: 0.0086 - val_mae: 0.0503\n",
            "Epoch 26/50\n",
            "\u001b[1m110/110\u001b[0m \u001b[32m━━━━━━━━━━━━━━━━━━━━\u001b[0m\u001b[37m\u001b[0m \u001b[1m10s\u001b[0m 93ms/step - loss: 0.0073 - mae: 0.0400 - val_loss: 0.0087 - val_mae: 0.0505\n",
            "Epoch 27/50\n",
            "\u001b[1m110/110\u001b[0m \u001b[32m━━━━━━━━━━━━━━━━━━━━\u001b[0m\u001b[37m\u001b[0m \u001b[1m10s\u001b[0m 94ms/step - loss: 0.0073 - mae: 0.0405 - val_loss: 0.0085 - val_mae: 0.0494\n",
            "Epoch 28/50\n",
            "\u001b[1m110/110\u001b[0m \u001b[32m━━━━━━━━━━━━━━━━━━━━\u001b[0m\u001b[37m\u001b[0m \u001b[1m10s\u001b[0m 94ms/step - loss: 0.0073 - mae: 0.0402 - val_loss: 0.0086 - val_mae: 0.0503\n",
            "Epoch 29/50\n",
            "\u001b[1m110/110\u001b[0m \u001b[32m━━━━━━━━━━━━━━━━━━━━\u001b[0m\u001b[37m\u001b[0m \u001b[1m10s\u001b[0m 94ms/step - loss: 0.0073 - mae: 0.0405 - val_loss: 0.0086 - val_mae: 0.0505\n",
            "Epoch 30/50\n",
            "\u001b[1m110/110\u001b[0m \u001b[32m━━━━━━━━━━━━━━━━━━━━\u001b[0m\u001b[37m\u001b[0m \u001b[1m10s\u001b[0m 94ms/step - loss: 0.0074 - mae: 0.0410 - val_loss: 0.0086 - val_mae: 0.0499\n",
            "Epoch 31/50\n",
            "\u001b[1m110/110\u001b[0m \u001b[32m━━━━━━━━━━━━━━━━━━━━\u001b[0m\u001b[37m\u001b[0m \u001b[1m10s\u001b[0m 94ms/step - loss: 0.0073 - mae: 0.0399 - val_loss: 0.0086 - val_mae: 0.0503\n",
            "Epoch 32/50\n",
            "\u001b[1m110/110\u001b[0m \u001b[32m━━━━━━━━━━━━━━━━━━━━\u001b[0m\u001b[37m\u001b[0m \u001b[1m10s\u001b[0m 94ms/step - loss: 0.0072 - mae: 0.0400 - val_loss: 0.0083 - val_mae: 0.0481\n",
            "Epoch 33/50\n",
            "\u001b[1m110/110\u001b[0m \u001b[32m━━━━━━━━━━━━━━━━━━━━\u001b[0m\u001b[37m\u001b[0m \u001b[1m10s\u001b[0m 95ms/step - loss: 0.0072 - mae: 0.0396 - val_loss: 0.0085 - val_mae: 0.0495\n",
            "Epoch 34/50\n",
            "\u001b[1m110/110\u001b[0m \u001b[32m━━━━━━━━━━━━━━━━━━━━\u001b[0m\u001b[37m\u001b[0m \u001b[1m10s\u001b[0m 94ms/step - loss: 0.0073 - mae: 0.0405 - val_loss: 0.0087 - val_mae: 0.0502\n",
            "Epoch 35/50\n",
            "\u001b[1m110/110\u001b[0m \u001b[32m━━━━━━━━━━━━━━━━━━━━\u001b[0m\u001b[37m\u001b[0m \u001b[1m10s\u001b[0m 94ms/step - loss: 0.0073 - mae: 0.0399 - val_loss: 0.0087 - val_mae: 0.0508\n",
            "Epoch 36/50\n",
            "\u001b[1m110/110\u001b[0m \u001b[32m━━━━━━━━━━━━━━━━━━━━\u001b[0m\u001b[37m\u001b[0m \u001b[1m10s\u001b[0m 94ms/step - loss: 0.0073 - mae: 0.0400 - val_loss: 0.0085 - val_mae: 0.0496\n",
            "Epoch 37/50\n",
            "\u001b[1m110/110\u001b[0m \u001b[32m━━━━━━━━━━━━━━━━━━━━\u001b[0m\u001b[37m\u001b[0m \u001b[1m10s\u001b[0m 94ms/step - loss: 0.0073 - mae: 0.0399 - val_loss: 0.0087 - val_mae: 0.0506\n",
            "Epoch 38/50\n",
            "\u001b[1m110/110\u001b[0m \u001b[32m━━━━━━━━━━━━━━━━━━━━\u001b[0m\u001b[37m\u001b[0m \u001b[1m10s\u001b[0m 94ms/step - loss: 0.0073 - mae: 0.0400 - val_loss: 0.0086 - val_mae: 0.0499\n",
            "Epoch 39/50\n",
            "\u001b[1m110/110\u001b[0m \u001b[32m━━━━━━━━━━━━━━━━━━━━\u001b[0m\u001b[37m\u001b[0m \u001b[1m11s\u001b[0m 95ms/step - loss: 0.0073 - mae: 0.0404 - val_loss: 0.0086 - val_mae: 0.0500\n",
            "Epoch 40/50\n",
            "\u001b[1m110/110\u001b[0m \u001b[32m━━━━━━━━━━━━━━━━━━━━\u001b[0m\u001b[37m\u001b[0m \u001b[1m10s\u001b[0m 94ms/step - loss: 0.0073 - mae: 0.0404 - val_loss: 0.0085 - val_mae: 0.0495\n",
            "Epoch 41/50\n",
            "\u001b[1m110/110\u001b[0m \u001b[32m━━━━━━━━━━━━━━━━━━━━\u001b[0m\u001b[37m\u001b[0m \u001b[1m10s\u001b[0m 94ms/step - loss: 0.0073 - mae: 0.0399 - val_loss: 0.0087 - val_mae: 0.0509\n",
            "Epoch 42/50\n",
            "\u001b[1m110/110\u001b[0m \u001b[32m━━━━━━━━━━━━━━━━━━━━\u001b[0m\u001b[37m\u001b[0m \u001b[1m10s\u001b[0m 94ms/step - loss: 0.0072 - mae: 0.0397 - val_loss: 0.0085 - val_mae: 0.0492\n",
            "Epoch 43/50\n",
            "\u001b[1m110/110\u001b[0m \u001b[32m━━━━━━━━━━━━━━━━━━━━\u001b[0m\u001b[37m\u001b[0m \u001b[1m10s\u001b[0m 94ms/step - loss: 0.0072 - mae: 0.0399 - val_loss: 0.0085 - val_mae: 0.0497\n",
            "Epoch 44/50\n",
            "\u001b[1m110/110\u001b[0m \u001b[32m━━━━━━━━━━━━━━━━━━━━\u001b[0m\u001b[37m\u001b[0m \u001b[1m10s\u001b[0m 95ms/step - loss: 0.0073 - mae: 0.0405 - val_loss: 0.0087 - val_mae: 0.0504\n",
            "Epoch 45/50\n",
            "\u001b[1m110/110\u001b[0m \u001b[32m━━━━━━━━━━━━━━━━━━━━\u001b[0m\u001b[37m\u001b[0m \u001b[1m11s\u001b[0m 95ms/step - loss: 0.0072 - mae: 0.0399 - val_loss: 0.0085 - val_mae: 0.0500\n",
            "Epoch 46/50\n",
            "\u001b[1m110/110\u001b[0m \u001b[32m━━━━━━━━━━━━━━━━━━━━\u001b[0m\u001b[37m\u001b[0m \u001b[1m10s\u001b[0m 94ms/step - loss: 0.0074 - mae: 0.0412 - val_loss: 0.0085 - val_mae: 0.0495\n",
            "Epoch 47/50\n",
            "\u001b[1m110/110\u001b[0m \u001b[32m━━━━━━━━━━━━━━━━━━━━\u001b[0m\u001b[37m\u001b[0m \u001b[1m10s\u001b[0m 95ms/step - loss: 0.0072 - mae: 0.0395 - val_loss: 0.0085 - val_mae: 0.0497\n",
            "Epoch 48/50\n",
            "\u001b[1m110/110\u001b[0m \u001b[32m━━━━━━━━━━━━━━━━━━━━\u001b[0m\u001b[37m\u001b[0m \u001b[1m10s\u001b[0m 95ms/step - loss: 0.0073 - mae: 0.0400 - val_loss: 0.0085 - val_mae: 0.0497\n",
            "Epoch 49/50\n",
            "\u001b[1m110/110\u001b[0m \u001b[32m━━━━━━━━━━━━━━━━━━━━\u001b[0m\u001b[37m\u001b[0m \u001b[1m10s\u001b[0m 95ms/step - loss: 0.0073 - mae: 0.0406 - val_loss: 0.0085 - val_mae: 0.0495\n",
            "Epoch 50/50\n",
            "\u001b[1m110/110\u001b[0m \u001b[32m━━━━━━━━━━━━━━━━━━━━\u001b[0m\u001b[37m\u001b[0m \u001b[1m10s\u001b[0m 95ms/step - loss: 0.0072 - mae: 0.0400 - val_loss: 0.0085 - val_mae: 0.0496\n"
          ]
        }
      ],
      "source": [
        "history = model.fit(\n",
        "    X_train_sliced, y_train_sliced,\n",
        "    validation_data=(X_val_sliced, y_val_sliced),\n",
        "    epochs=50,\n",
        "    batch_size=8,\n",
        "    verbose=1\n",
        ")"
      ]
    },
    {
      "cell_type": "markdown",
      "id": "edc0ae00",
      "metadata": {
        "id": "edc0ae00"
      },
      "source": [
        "Test the Model"
      ]
    },
    {
      "cell_type": "markdown",
      "id": "49671bd9-7015-4484-8d53-53502e39dfed",
      "metadata": {
        "id": "49671bd9-7015-4484-8d53-53502e39dfed"
      },
      "source": [
        "# Temporal slicing test data"
      ]
    },
    {
      "cell_type": "code",
      "execution_count": null,
      "id": "d5ced5b6",
      "metadata": {
        "id": "d5ced5b6",
        "outputId": "4b7560c1-3f43-4483-e8cf-ba405830be30"
      },
      "outputs": [
        {
          "name": "stdout",
          "output_type": "stream",
          "text": [
            "Sliced x_test shape: (1125, 19, 5, 116, 32)\n",
            "Sliced y_test shape: (1125, 1, 5, 116, 32)\n"
          ]
        }
      ],
      "source": [
        "# Parameters based on training slice\n",
        "input_seq_length = 19  # Match X_train input temporal size\n",
        "output_seq_length = 1  # Match y_train output temporal size\n",
        "\n",
        "x_test_slices = []\n",
        "y_test_slices = []\n",
        "\n",
        "# Slice the test data\n",
        "for i in range(len(x_actual_test)):\n",
        "    for j in range(len(x_actual_test[i]) - input_seq_length - output_seq_length + 1):\n",
        "        x_test_slices.append(x_actual_test[i, j:j + input_seq_length])\n",
        "        y_test_slices.append(y_actual_test[i, j + input_seq_length:j + input_seq_length + output_seq_length])\n",
        "\n",
        "# Convert to numpy arrays\n",
        "x_test_slices = np.array(x_test_slices)\n",
        "y_test_slices = np.array(y_test_slices)\n",
        "\n",
        "print(f\"Sliced x_test shape: {x_test_slices.shape}\")\n",
        "print(f\"Sliced y_test shape: {y_test_slices.shape}\")\n"
      ]
    },
    {
      "cell_type": "code",
      "execution_count": null,
      "id": "cccd8ec1-ec37-48cf-b15b-d9b9bb8c1198",
      "metadata": {
        "id": "cccd8ec1-ec37-48cf-b15b-d9b9bb8c1198",
        "outputId": "d81ab39c-da23-40a9-ef14-9e8158267937"
      },
      "outputs": [
        {
          "name": "stdout",
          "output_type": "stream",
          "text": [
            "\u001b[1m36/36\u001b[0m \u001b[32m━━━━━━━━━━━━━━━━━━━━\u001b[0m\u001b[37m\u001b[0m \u001b[1m2s\u001b[0m 57ms/step - loss: 0.0070 - mae: 0.0415\n",
            "Test Loss: 0.0075372373685240746, Test MAE: 0.04219132289290428\n"
          ]
        }
      ],
      "source": [
        "test_loss, test_mae = model.evaluate(x_test_slices, y_test_slices, verbose=1)\n",
        "print(f\"Test Loss: {test_loss}, Test MAE: {test_mae}\")\n",
        "\n"
      ]
    },
    {
      "cell_type": "markdown",
      "id": "b16be210",
      "metadata": {
        "id": "b16be210"
      },
      "source": [
        "Aggregate Results"
      ]
    },
    {
      "cell_type": "code",
      "execution_count": null,
      "id": "86e08cb4",
      "metadata": {
        "id": "86e08cb4",
        "outputId": "a74028be-d2c2-4858-cee1-fbf7c43fba46"
      },
      "outputs": [
        {
          "name": "stdout",
          "output_type": "stream",
          "text": [
            "\u001b[1m36/36\u001b[0m \u001b[32m━━━━━━━━━━━━━━━━━━━━\u001b[0m\u001b[37m\u001b[0m \u001b[1m2s\u001b[0m 54ms/step\n"
          ]
        }
      ],
      "source": [
        "y_pred = model.predict(x_test_slices)\n",
        "\n",
        "# Aggregate predictions to match the original `y_actual_test` shape\n",
        "aggregated_predictions = np.zeros_like(y_actual_test)\n",
        "counts = np.zeros_like(y_actual_test)\n",
        "\n",
        "for i in range(len(x_actual_test)):\n",
        "    for j in range(len(x_actual_test[i]) - input_seq_length - output_seq_length + 1):\n",
        "        aggregated_predictions[i, j + input_seq_length:j + input_seq_length + output_seq_length] += y_pred[j]\n",
        "        counts[i, j + input_seq_length:j + input_seq_length + output_seq_length] += 1\n",
        "\n",
        "aggregated_predictions /= np.maximum(counts, 1)  # Avoid division by zero\n"
      ]
    },
    {
      "cell_type": "markdown",
      "id": "6cae0301",
      "metadata": {
        "id": "6cae0301"
      },
      "source": [
        "Verify Predictions"
      ]
    },
    {
      "cell_type": "code",
      "execution_count": null,
      "id": "c8339fde",
      "metadata": {
        "id": "c8339fde",
        "outputId": "e70a6203-85ea-4511-ddfa-48687a1206b4"
      },
      "outputs": [
        {
          "name": "stdout",
          "output_type": "stream",
          "text": [
            "Aggregated MSE: 0.010099014267325401\n"
          ]
        }
      ],
      "source": [
        "from sklearn.metrics import mean_squared_error\n",
        "\n",
        "mse = mean_squared_error(y_actual_test.flatten(), aggregated_predictions.flatten())\n",
        "print(f\"Aggregated MSE: {mse}\")"
      ]
    },
    {
      "cell_type": "code",
      "execution_count": null,
      "id": "66ab9af6",
      "metadata": {
        "id": "66ab9af6",
        "outputId": "38361305-ee4d-42dc-f30e-4eba42e38956"
      },
      "outputs": [
        {
          "name": "stdout",
          "output_type": "stream",
          "text": [
            "R-squared (R2): 0.35781101080356414\n"
          ]
        }
      ],
      "source": [
        "from sklearn.metrics import r2_score\n",
        "\n",
        "# Assuming aggregated_predictions contains the model's predictions for x_actual_test\n",
        "# Flatten both arrays to ensure compatibility\n",
        "y_test_flat = y_actual_test.flatten()\n",
        "y_pred_flat = aggregated_predictions.flatten()\n",
        "\n",
        "# Compute R-squared\n",
        "r2 = r2_score(y_test_flat, y_pred_flat)\n",
        "print(f\"R-squared (R2): {r2}\")"
      ]
    },
    {
      "cell_type": "markdown",
      "id": "c2eee273",
      "metadata": {
        "id": "c2eee273"
      },
      "source": [
        "Evaluate and Visualize Results"
      ]
    },
    {
      "cell_type": "code",
      "execution_count": null,
      "id": "ea21ebcb-1f8c-49be-ae3a-64d59d73fa72",
      "metadata": {
        "id": "ea21ebcb-1f8c-49be-ae3a-64d59d73fa72",
        "outputId": "201e65c8-186c-40e6-b0c8-60623ecb85b0"
      },
      "outputs": [
        {
          "data": {
            "image/png": "[encoded data removed]",
            "text/plain": [
              "<Figure size 640x480 with 1 Axes>"
            ]
          },
          "metadata": {},
          "output_type": "display_data"
        }
      ],
      "source": [
        "import matplotlib.pyplot as plt\n",
        "\n",
        "# Plot training & validation loss\n",
        "plt.plot(history.history['loss'], label='Training Loss')\n",
        "plt.plot(history.history['val_loss'], label='Validation Loss')\n",
        "plt.legend()\n",
        "plt.title('Loss over epochs')\n",
        "plt.xlabel('Epochs')\n",
        "plt.ylabel('Loss')\n",
        "plt.show()\n",
        "\n"
      ]
    },
    {
      "cell_type": "markdown",
      "id": "425843be-8d13-43d3-9887-f894dc141a3d",
      "metadata": {
        "id": "425843be-8d13-43d3-9887-f894dc141a3d"
      },
      "source": [
        "## LSTM model"
      ]
    },
    {
      "cell_type": "code",
      "execution_count": null,
      "id": "8d055e8a-d048-4b75-9f8d-8a6a6d1b4ee6",
      "metadata": {
        "id": "8d055e8a-d048-4b75-9f8d-8a6a6d1b4ee6",
        "outputId": "3c564594-1f38-45a9-fc62-77343fc711f1"
      },
      "outputs": [
        {
          "name": "stderr",
          "output_type": "stream",
          "text": [
            "/Users/abhi/anaconda3/lib/python3.11/site-packages/keras/src/layers/reshaping/reshape.py:39: UserWarning: Do not pass an `input_shape`/`input_dim` argument to a layer. When using Sequential models, prefer using an `Input(shape)` object as the first layer in the model instead.\n",
            "  super().__init__(**kwargs)\n"
          ]
        },
        {
          "data": {
            "text/html": [
              "<pre style=\"white-space:pre;overflow-x:auto;line-height:normal;font-family:Menlo,'DejaVu Sans Mono',consolas,'Courier New',monospace\"><span style=\"font-weight: bold\">Model: \"sequential_3\"</span>\n",
              "</pre>\n"
            ],
            "text/plain": [
              "\u001b[1mModel: \"sequential_3\"\u001b[0m\n"
            ]
          },
          "metadata": {},
          "output_type": "display_data"
        },
        {
          "data": {
            "text/html": [
              "<pre style=\"white-space:pre;overflow-x:auto;line-height:normal;font-family:Menlo,'DejaVu Sans Mono',consolas,'Courier New',monospace\">┏━━━━━━━━━━━━━━━━━━━━━━━━━━━━━━━━━┳━━━━━━━━━━━━━━━━━━━━━━━━┳━━━━━━━━━━━━━━━┓\n",
              "┃<span style=\"font-weight: bold\"> Layer (type)                    </span>┃<span style=\"font-weight: bold\"> Output Shape           </span>┃<span style=\"font-weight: bold\">       Param # </span>┃\n",
              "┡━━━━━━━━━━━━━━━━━━━━━━━━━━━━━━━━━╇━━━━━━━━━━━━━━━━━━━━━━━━╇━━━━━━━━━━━━━━━┩\n",
              "│ reshape_4 (<span style=\"color: #0087ff; text-decoration-color: #0087ff\">Reshape</span>)             │ (<span style=\"color: #00d7ff; text-decoration-color: #00d7ff\">None</span>, <span style=\"color: #00af00; text-decoration-color: #00af00\">19</span>, <span style=\"color: #00af00; text-decoration-color: #00af00\">18560</span>)      │             <span style=\"color: #00af00; text-decoration-color: #00af00\">0</span> │\n",
              "├─────────────────────────────────┼────────────────────────┼───────────────┤\n",
              "│ lstm_2 (<span style=\"color: #0087ff; text-decoration-color: #0087ff\">LSTM</span>)                   │ (<span style=\"color: #00d7ff; text-decoration-color: #00d7ff\">None</span>, <span style=\"color: #00af00; text-decoration-color: #00af00\">19</span>, <span style=\"color: #00af00; text-decoration-color: #00af00\">128</span>)        │     <span style=\"color: #00af00; text-decoration-color: #00af00\">9,568,768</span> │\n",
              "├─────────────────────────────────┼────────────────────────┼───────────────┤\n",
              "│ dropout_4 (<span style=\"color: #0087ff; text-decoration-color: #0087ff\">Dropout</span>)             │ (<span style=\"color: #00d7ff; text-decoration-color: #00d7ff\">None</span>, <span style=\"color: #00af00; text-decoration-color: #00af00\">19</span>, <span style=\"color: #00af00; text-decoration-color: #00af00\">128</span>)        │             <span style=\"color: #00af00; text-decoration-color: #00af00\">0</span> │\n",
              "├─────────────────────────────────┼────────────────────────┼───────────────┤\n",
              "│ lstm_3 (<span style=\"color: #0087ff; text-decoration-color: #0087ff\">LSTM</span>)                   │ (<span style=\"color: #00d7ff; text-decoration-color: #00d7ff\">None</span>, <span style=\"color: #00af00; text-decoration-color: #00af00\">64</span>)             │        <span style=\"color: #00af00; text-decoration-color: #00af00\">49,408</span> │\n",
              "├─────────────────────────────────┼────────────────────────┼───────────────┤\n",
              "│ dense_6 (<span style=\"color: #0087ff; text-decoration-color: #0087ff\">Dense</span>)                 │ (<span style=\"color: #00d7ff; text-decoration-color: #00d7ff\">None</span>, <span style=\"color: #00af00; text-decoration-color: #00af00\">128</span>)            │         <span style=\"color: #00af00; text-decoration-color: #00af00\">8,320</span> │\n",
              "├─────────────────────────────────┼────────────────────────┼───────────────┤\n",
              "│ dropout_5 (<span style=\"color: #0087ff; text-decoration-color: #0087ff\">Dropout</span>)             │ (<span style=\"color: #00d7ff; text-decoration-color: #00d7ff\">None</span>, <span style=\"color: #00af00; text-decoration-color: #00af00\">128</span>)            │             <span style=\"color: #00af00; text-decoration-color: #00af00\">0</span> │\n",
              "├─────────────────────────────────┼────────────────────────┼───────────────┤\n",
              "│ dense_7 (<span style=\"color: #0087ff; text-decoration-color: #0087ff\">Dense</span>)                 │ (<span style=\"color: #00d7ff; text-decoration-color: #00d7ff\">None</span>, <span style=\"color: #00af00; text-decoration-color: #00af00\">18560</span>)          │     <span style=\"color: #00af00; text-decoration-color: #00af00\">2,394,240</span> │\n",
              "├─────────────────────────────────┼────────────────────────┼───────────────┤\n",
              "│ reshape_5 (<span style=\"color: #0087ff; text-decoration-color: #0087ff\">Reshape</span>)             │ (<span style=\"color: #00d7ff; text-decoration-color: #00d7ff\">None</span>, <span style=\"color: #00af00; text-decoration-color: #00af00\">1</span>, <span style=\"color: #00af00; text-decoration-color: #00af00\">5</span>, <span style=\"color: #00af00; text-decoration-color: #00af00\">116</span>, <span style=\"color: #00af00; text-decoration-color: #00af00\">32</span>)  │             <span style=\"color: #00af00; text-decoration-color: #00af00\">0</span> │\n",
              "└─────────────────────────────────┴────────────────────────┴───────────────┘\n",
              "</pre>\n"
            ],
            "text/plain": [
              "┏━━━━━━━━━━━━━━━━━━━━━━━━━━━━━━━━━┳━━━━━━━━━━━━━━━━━━━━━━━━┳━━━━━━━━━━━━━━━┓\n",
              "┃\u001b[1m \u001b[0m\u001b[1mLayer (type)                   \u001b[0m\u001b[1m \u001b[0m┃\u001b[1m \u001b[0m\u001b[1mOutput Shape          \u001b[0m\u001b[1m \u001b[0m┃\u001b[1m \u001b[0m\u001b[1m      Param #\u001b[0m\u001b[1m \u001b[0m┃\n",
              "┡━━━━━━━━━━━━━━━━━━━━━━━━━━━━━━━━━╇━━━━━━━━━━━━━━━━━━━━━━━━╇━━━━━━━━━━━━━━━┩\n",
              "│ reshape_4 (\u001b[38;5;33mReshape\u001b[0m)             │ (\u001b[38;5;45mNone\u001b[0m, \u001b[38;5;34m19\u001b[0m, \u001b[38;5;34m18560\u001b[0m)      │             \u001b[38;5;34m0\u001b[0m │\n",
              "├─────────────────────────────────┼────────────────────────┼───────────────┤\n",
              "│ lstm_2 (\u001b[38;5;33mLSTM\u001b[0m)                   │ (\u001b[38;5;45mNone\u001b[0m, \u001b[38;5;34m19\u001b[0m, \u001b[38;5;34m128\u001b[0m)        │     \u001b[38;5;34m9,568,768\u001b[0m │\n",
              "├─────────────────────────────────┼────────────────────────┼───────────────┤\n",
              "│ dropout_4 (\u001b[38;5;33mDropout\u001b[0m)             │ (\u001b[38;5;45mNone\u001b[0m, \u001b[38;5;34m19\u001b[0m, \u001b[38;5;34m128\u001b[0m)        │             \u001b[38;5;34m0\u001b[0m │\n",
              "├─────────────────────────────────┼────────────────────────┼───────────────┤\n",
              "│ lstm_3 (\u001b[38;5;33mLSTM\u001b[0m)                   │ (\u001b[38;5;45mNone\u001b[0m, \u001b[38;5;34m64\u001b[0m)             │        \u001b[38;5;34m49,408\u001b[0m │\n",
              "├─────────────────────────────────┼────────────────────────┼───────────────┤\n",
              "│ dense_6 (\u001b[38;5;33mDense\u001b[0m)                 │ (\u001b[38;5;45mNone\u001b[0m, \u001b[38;5;34m128\u001b[0m)            │         \u001b[38;5;34m8,320\u001b[0m │\n",
              "├─────────────────────────────────┼────────────────────────┼───────────────┤\n",
              "│ dropout_5 (\u001b[38;5;33mDropout\u001b[0m)             │ (\u001b[38;5;45mNone\u001b[0m, \u001b[38;5;34m128\u001b[0m)            │             \u001b[38;5;34m0\u001b[0m │\n",
              "├─────────────────────────────────┼────────────────────────┼───────────────┤\n",
              "│ dense_7 (\u001b[38;5;33mDense\u001b[0m)                 │ (\u001b[38;5;45mNone\u001b[0m, \u001b[38;5;34m18560\u001b[0m)          │     \u001b[38;5;34m2,394,240\u001b[0m │\n",
              "├─────────────────────────────────┼────────────────────────┼───────────────┤\n",
              "│ reshape_5 (\u001b[38;5;33mReshape\u001b[0m)             │ (\u001b[38;5;45mNone\u001b[0m, \u001b[38;5;34m1\u001b[0m, \u001b[38;5;34m5\u001b[0m, \u001b[38;5;34m116\u001b[0m, \u001b[38;5;34m32\u001b[0m)  │             \u001b[38;5;34m0\u001b[0m │\n",
              "└─────────────────────────────────┴────────────────────────┴───────────────┘\n"
            ]
          },
          "metadata": {},
          "output_type": "display_data"
        },
        {
          "data": {
            "text/html": [
              "<pre style=\"white-space:pre;overflow-x:auto;line-height:normal;font-family:Menlo,'DejaVu Sans Mono',consolas,'Courier New',monospace\"><span style=\"font-weight: bold\"> Total params: </span><span style=\"color: #00af00; text-decoration-color: #00af00\">12,020,736</span> (45.86 MB)\n",
              "</pre>\n"
            ],
            "text/plain": [
              "\u001b[1m Total params: \u001b[0m\u001b[38;5;34m12,020,736\u001b[0m (45.86 MB)\n"
            ]
          },
          "metadata": {},
          "output_type": "display_data"
        },
        {
          "data": {
            "text/html": [
              "<pre style=\"white-space:pre;overflow-x:auto;line-height:normal;font-family:Menlo,'DejaVu Sans Mono',consolas,'Courier New',monospace\"><span style=\"font-weight: bold\"> Trainable params: </span><span style=\"color: #00af00; text-decoration-color: #00af00\">12,020,736</span> (45.86 MB)\n",
              "</pre>\n"
            ],
            "text/plain": [
              "\u001b[1m Trainable params: \u001b[0m\u001b[38;5;34m12,020,736\u001b[0m (45.86 MB)\n"
            ]
          },
          "metadata": {},
          "output_type": "display_data"
        },
        {
          "data": {
            "text/html": [
              "<pre style=\"white-space:pre;overflow-x:auto;line-height:normal;font-family:Menlo,'DejaVu Sans Mono',consolas,'Courier New',monospace\"><span style=\"font-weight: bold\"> Non-trainable params: </span><span style=\"color: #00af00; text-decoration-color: #00af00\">0</span> (0.00 B)\n",
              "</pre>\n"
            ],
            "text/plain": [
              "\u001b[1m Non-trainable params: \u001b[0m\u001b[38;5;34m0\u001b[0m (0.00 B)\n"
            ]
          },
          "metadata": {},
          "output_type": "display_data"
        }
      ],
      "source": [
        "from tensorflow.keras import Sequential\n",
        "from tensorflow.keras.layers import LSTM, Dense, Dropout, Reshape, Input\n",
        "\n",
        "model_lstm = Sequential([\n",
        "    Reshape((19, 5 * 116 * 32), input_shape=(19, 5, 116, 32)),\n",
        "    LSTM(128, return_sequences=True),\n",
        "    Dropout(0.5),\n",
        "    LSTM(64, return_sequences=False),\n",
        "    Dense(128, activation='relu'),\n",
        "    Dropout(0.5),\n",
        "    Dense(aft_seq_length * height * width * features, activation='linear'),\n",
        "    Reshape((aft_seq_length, height, width, features))\n",
        "])\n",
        "\n",
        "\n",
        "model_lstm.summary()\n"
      ]
    },
    {
      "cell_type": "code",
      "execution_count": null,
      "id": "fd7f8326-0e1f-4a2e-a9e2-ab1c08fa0650",
      "metadata": {
        "id": "fd7f8326-0e1f-4a2e-a9e2-ab1c08fa0650"
      },
      "outputs": [],
      "source": [
        "model_lstm.compile(optimizer='adam', loss='mse', metrics=['mae'])"
      ]
    },
    {
      "cell_type": "code",
      "execution_count": null,
      "id": "23b43804-588d-4c9e-b1d6-b6fbf9cd529b",
      "metadata": {
        "id": "23b43804-588d-4c9e-b1d6-b6fbf9cd529b",
        "outputId": "69fc851d-7217-4dbf-9bc4-f540144e154d"
      },
      "outputs": [
        {
          "name": "stdout",
          "output_type": "stream",
          "text": [
            "Epoch 1/50\n",
            "\u001b[1m110/110\u001b[0m \u001b[32m━━━━━━━━━━━━━━━━━━━━\u001b[0m\u001b[37m\u001b[0m \u001b[1m17s\u001b[0m 143ms/step - loss: 0.0144 - mae: 0.0746 - val_loss: 0.0075 - val_mae: 0.0459\n",
            "Epoch 2/50\n",
            "\u001b[1m110/110\u001b[0m \u001b[32m━━━━━━━━━━━━━━━━━━━━\u001b[0m\u001b[37m\u001b[0m \u001b[1m15s\u001b[0m 135ms/step - loss: 0.0068 - mae: 0.0402 - val_loss: 0.0075 - val_mae: 0.0458\n",
            "Epoch 3/50\n",
            "\u001b[1m110/110\u001b[0m \u001b[32m━━━━━━━━━━━━━━━━━━━━\u001b[0m\u001b[37m\u001b[0m \u001b[1m15s\u001b[0m 136ms/step - loss: 0.0062 - mae: 0.0352 - val_loss: 0.0079 - val_mae: 0.0472\n",
            "Epoch 4/50\n",
            "\u001b[1m110/110\u001b[0m \u001b[32m━━━━━━━━━━━━━━━━━━━━\u001b[0m\u001b[37m\u001b[0m \u001b[1m15s\u001b[0m 137ms/step - loss: 0.0061 - mae: 0.0345 - val_loss: 0.0070 - val_mae: 0.0410\n",
            "Epoch 5/50\n",
            "\u001b[1m110/110\u001b[0m \u001b[32m━━━━━━━━━━━━━━━━━━━━\u001b[0m\u001b[37m\u001b[0m \u001b[1m15s\u001b[0m 136ms/step - loss: 0.0058 - mae: 0.0317 - val_loss: 0.0065 - val_mae: 0.0329\n",
            "Epoch 6/50\n",
            "\u001b[1m110/110\u001b[0m \u001b[32m━━━━━━━━━━━━━━━━━━━━\u001b[0m\u001b[37m\u001b[0m \u001b[1m15s\u001b[0m 135ms/step - loss: 0.0056 - mae: 0.0312 - val_loss: 0.0067 - val_mae: 0.0375\n",
            "Epoch 7/50\n",
            "\u001b[1m110/110\u001b[0m \u001b[32m━━━━━━━━━━━━━━━━━━━━\u001b[0m\u001b[37m\u001b[0m \u001b[1m15s\u001b[0m 136ms/step - loss: 0.0054 - mae: 0.0303 - val_loss: 0.0066 - val_mae: 0.0374\n",
            "Epoch 8/50\n",
            "\u001b[1m110/110\u001b[0m \u001b[32m━━━━━━━━━━━━━━━━━━━━\u001b[0m\u001b[37m\u001b[0m \u001b[1m15s\u001b[0m 136ms/step - loss: 0.0054 - mae: 0.0305 - val_loss: 0.0066 - val_mae: 0.0389\n",
            "Epoch 9/50\n",
            "\u001b[1m110/110\u001b[0m \u001b[32m━━━━━━━━━━━━━━━━━━━━\u001b[0m\u001b[37m\u001b[0m \u001b[1m15s\u001b[0m 138ms/step - loss: 0.0053 - mae: 0.0293 - val_loss: 0.0064 - val_mae: 0.0369\n",
            "Epoch 10/50\n",
            "\u001b[1m110/110\u001b[0m \u001b[32m━━━━━━━━━━━━━━━━━━━━\u001b[0m\u001b[37m\u001b[0m \u001b[1m15s\u001b[0m 138ms/step - loss: 0.0052 - mae: 0.0288 - val_loss: 0.0064 - val_mae: 0.0382\n",
            "Epoch 11/50\n",
            "\u001b[1m110/110\u001b[0m \u001b[32m━━━━━━━━━━━━━━━━━━━━\u001b[0m\u001b[37m\u001b[0m \u001b[1m15s\u001b[0m 138ms/step - loss: 0.0050 - mae: 0.0279 - val_loss: 0.0061 - val_mae: 0.0363\n",
            "Epoch 12/50\n",
            "\u001b[1m110/110\u001b[0m \u001b[32m━━━━━━━━━━━━━━━━━━━━\u001b[0m\u001b[37m\u001b[0m \u001b[1m16s\u001b[0m 140ms/step - loss: 0.0050 - mae: 0.0279 - val_loss: 0.0060 - val_mae: 0.0372\n",
            "Epoch 13/50\n",
            "\u001b[1m110/110\u001b[0m \u001b[32m━━━━━━━━━━━━━━━━━━━━\u001b[0m\u001b[37m\u001b[0m \u001b[1m15s\u001b[0m 139ms/step - loss: 0.0050 - mae: 0.0273 - val_loss: 0.0064 - val_mae: 0.0387\n",
            "Epoch 14/50\n",
            "\u001b[1m110/110\u001b[0m \u001b[32m━━━━━━━━━━━━━━━━━━━━\u001b[0m\u001b[37m\u001b[0m \u001b[1m15s\u001b[0m 139ms/step - loss: 0.0048 - mae: 0.0261 - val_loss: 0.0061 - val_mae: 0.0377\n",
            "Epoch 15/50\n",
            "\u001b[1m110/110\u001b[0m \u001b[32m━━━━━━━━━━━━━━━━━━━━\u001b[0m\u001b[37m\u001b[0m \u001b[1m15s\u001b[0m 139ms/step - loss: 0.0047 - mae: 0.0256 - val_loss: 0.0060 - val_mae: 0.0356\n",
            "Epoch 16/50\n",
            "\u001b[1m110/110\u001b[0m \u001b[32m━━━━━━━━━━━━━━━━━━━━\u001b[0m\u001b[37m\u001b[0m \u001b[1m15s\u001b[0m 138ms/step - loss: 0.0046 - mae: 0.0249 - val_loss: 0.0060 - val_mae: 0.0368\n",
            "Epoch 17/50\n",
            "\u001b[1m110/110\u001b[0m \u001b[32m━━━━━━━━━━━━━━━━━━━━\u001b[0m\u001b[37m\u001b[0m \u001b[1m15s\u001b[0m 138ms/step - loss: 0.0045 - mae: 0.0245 - val_loss: 0.0055 - val_mae: 0.0342\n",
            "Epoch 18/50\n",
            "\u001b[1m110/110\u001b[0m \u001b[32m━━━━━━━━━━━━━━━━━━━━\u001b[0m\u001b[37m\u001b[0m \u001b[1m15s\u001b[0m 138ms/step - loss: 0.0044 - mae: 0.0238 - val_loss: 0.0059 - val_mae: 0.0363\n",
            "Epoch 19/50\n",
            "\u001b[1m110/110\u001b[0m \u001b[32m━━━━━━━━━━━━━━━━━━━━\u001b[0m\u001b[37m\u001b[0m \u001b[1m15s\u001b[0m 138ms/step - loss: 0.0042 - mae: 0.0228 - val_loss: 0.0051 - val_mae: 0.0307\n",
            "Epoch 20/50\n",
            "\u001b[1m110/110\u001b[0m \u001b[32m━━━━━━━━━━━━━━━━━━━━\u001b[0m\u001b[37m\u001b[0m \u001b[1m15s\u001b[0m 139ms/step - loss: 0.0042 - mae: 0.0226 - val_loss: 0.0053 - val_mae: 0.0328\n",
            "Epoch 21/50\n",
            "\u001b[1m110/110\u001b[0m \u001b[32m━━━━━━━━━━━━━━━━━━━━\u001b[0m\u001b[37m\u001b[0m \u001b[1m15s\u001b[0m 139ms/step - loss: 0.0042 - mae: 0.0220 - val_loss: 0.0054 - val_mae: 0.0335\n",
            "Epoch 22/50\n",
            "\u001b[1m110/110\u001b[0m \u001b[32m━━━━━━━━━━━━━━━━━━━━\u001b[0m\u001b[37m\u001b[0m \u001b[1m15s\u001b[0m 138ms/step - loss: 0.0041 - mae: 0.0221 - val_loss: 0.0050 - val_mae: 0.0305\n",
            "Epoch 23/50\n",
            "\u001b[1m110/110\u001b[0m \u001b[32m━━━━━━━━━━━━━━━━━━━━\u001b[0m\u001b[37m\u001b[0m \u001b[1m15s\u001b[0m 138ms/step - loss: 0.0040 - mae: 0.0215 - val_loss: 0.0051 - val_mae: 0.0313\n",
            "Epoch 24/50\n",
            "\u001b[1m110/110\u001b[0m \u001b[32m━━━━━━━━━━━━━━━━━━━━\u001b[0m\u001b[37m\u001b[0m \u001b[1m16s\u001b[0m 140ms/step - loss: 0.0040 - mae: 0.0213 - val_loss: 0.0054 - val_mae: 0.0317\n",
            "Epoch 25/50\n",
            "\u001b[1m110/110\u001b[0m \u001b[32m━━━━━━━━━━━━━━━━━━━━\u001b[0m\u001b[37m\u001b[0m \u001b[1m16s\u001b[0m 143ms/step - loss: 0.0040 - mae: 0.0206 - val_loss: 0.0054 - val_mae: 0.0363\n",
            "Epoch 26/50\n",
            "\u001b[1m110/110\u001b[0m \u001b[32m━━━━━━━━━━━━━━━━━━━━\u001b[0m\u001b[37m\u001b[0m \u001b[1m16s\u001b[0m 143ms/step - loss: 0.0039 - mae: 0.0213 - val_loss: 0.0052 - val_mae: 0.0314\n",
            "Epoch 27/50\n",
            "\u001b[1m110/110\u001b[0m \u001b[32m━━━━━━━━━━━━━━━━━━━━\u001b[0m\u001b[37m\u001b[0m \u001b[1m16s\u001b[0m 140ms/step - loss: 0.0039 - mae: 0.0209 - val_loss: 0.0050 - val_mae: 0.0313\n",
            "Epoch 28/50\n",
            "\u001b[1m110/110\u001b[0m \u001b[32m━━━━━━━━━━━━━━━━━━━━\u001b[0m\u001b[37m\u001b[0m \u001b[1m15s\u001b[0m 139ms/step - loss: 0.0039 - mae: 0.0214 - val_loss: 0.0050 - val_mae: 0.0318\n",
            "Epoch 29/50\n",
            "\u001b[1m110/110\u001b[0m \u001b[32m━━━━━━━━━━━━━━━━━━━━\u001b[0m\u001b[37m\u001b[0m \u001b[1m15s\u001b[0m 138ms/step - loss: 0.0038 - mae: 0.0205 - val_loss: 0.0048 - val_mae: 0.0301\n",
            "Epoch 30/50\n",
            "\u001b[1m110/110\u001b[0m \u001b[32m━━━━━━━━━━━━━━━━━━━━\u001b[0m\u001b[37m\u001b[0m \u001b[1m15s\u001b[0m 138ms/step - loss: 0.0038 - mae: 0.0204 - val_loss: 0.0050 - val_mae: 0.0311\n",
            "Epoch 31/50\n",
            "\u001b[1m110/110\u001b[0m \u001b[32m━━━━━━━━━━━━━━━━━━━━\u001b[0m\u001b[37m\u001b[0m \u001b[1m15s\u001b[0m 138ms/step - loss: 0.0038 - mae: 0.0210 - val_loss: 0.0049 - val_mae: 0.0303\n",
            "Epoch 32/50\n",
            "\u001b[1m110/110\u001b[0m \u001b[32m━━━━━━━━━━━━━━━━━━━━\u001b[0m\u001b[37m\u001b[0m \u001b[1m15s\u001b[0m 138ms/step - loss: 0.0037 - mae: 0.0205 - val_loss: 0.0050 - val_mae: 0.0318\n",
            "Epoch 33/50\n",
            "\u001b[1m110/110\u001b[0m \u001b[32m━━━━━━━━━━━━━━━━━━━━\u001b[0m\u001b[37m\u001b[0m \u001b[1m15s\u001b[0m 138ms/step - loss: 0.0038 - mae: 0.0206 - val_loss: 0.0048 - val_mae: 0.0298\n",
            "Epoch 34/50\n",
            "\u001b[1m110/110\u001b[0m \u001b[32m━━━━━━━━━━━━━━━━━━━━\u001b[0m\u001b[37m\u001b[0m \u001b[1m15s\u001b[0m 138ms/step - loss: 0.0038 - mae: 0.0205 - val_loss: 0.0050 - val_mae: 0.0318\n",
            "Epoch 35/50\n",
            "\u001b[1m110/110\u001b[0m \u001b[32m━━━━━━━━━━━━━━━━━━━━\u001b[0m\u001b[37m\u001b[0m \u001b[1m15s\u001b[0m 139ms/step - loss: 0.0037 - mae: 0.0201 - val_loss: 0.0049 - val_mae: 0.0309\n",
            "Epoch 36/50\n",
            "\u001b[1m110/110\u001b[0m \u001b[32m━━━━━━━━━━━━━━━━━━━━\u001b[0m\u001b[37m\u001b[0m \u001b[1m15s\u001b[0m 138ms/step - loss: 0.0037 - mae: 0.0204 - val_loss: 0.0051 - val_mae: 0.0321\n",
            "Epoch 37/50\n",
            "\u001b[1m110/110\u001b[0m \u001b[32m━━━━━━━━━━━━━━━━━━━━\u001b[0m\u001b[37m\u001b[0m \u001b[1m15s\u001b[0m 138ms/step - loss: 0.0038 - mae: 0.0200 - val_loss: 0.0049 - val_mae: 0.0301\n",
            "Epoch 38/50\n",
            "\u001b[1m110/110\u001b[0m \u001b[32m━━━━━━━━━━━━━━━━━━━━\u001b[0m\u001b[37m\u001b[0m \u001b[1m15s\u001b[0m 138ms/step - loss: 0.0037 - mae: 0.0204 - val_loss: 0.0046 - val_mae: 0.0287\n",
            "Epoch 39/50\n",
            "\u001b[1m110/110\u001b[0m \u001b[32m━━━━━━━━━━━━━━━━━━━━\u001b[0m\u001b[37m\u001b[0m \u001b[1m16s\u001b[0m 139ms/step - loss: 0.0036 - mae: 0.0204 - val_loss: 0.0053 - val_mae: 0.0356\n",
            "Epoch 40/50\n",
            "\u001b[1m110/110\u001b[0m \u001b[32m━━━━━━━━━━━━━━━━━━━━\u001b[0m\u001b[37m\u001b[0m \u001b[1m16s\u001b[0m 140ms/step - loss: 0.0037 - mae: 0.0204 - val_loss: 0.0048 - val_mae: 0.0305\n",
            "Epoch 41/50\n",
            "\u001b[1m110/110\u001b[0m \u001b[32m━━━━━━━━━━━━━━━━━━━━\u001b[0m\u001b[37m\u001b[0m \u001b[1m15s\u001b[0m 138ms/step - loss: 0.0036 - mae: 0.0202 - val_loss: 0.0049 - val_mae: 0.0306\n",
            "Epoch 42/50\n",
            "\u001b[1m110/110\u001b[0m \u001b[32m━━━━━━━━━━━━━━━━━━━━\u001b[0m\u001b[37m\u001b[0m \u001b[1m15s\u001b[0m 139ms/step - loss: 0.0036 - mae: 0.0199 - val_loss: 0.0046 - val_mae: 0.0289\n",
            "Epoch 43/50\n",
            "\u001b[1m110/110\u001b[0m \u001b[32m━━━━━━━━━━━━━━━━━━━━\u001b[0m\u001b[37m\u001b[0m \u001b[1m15s\u001b[0m 140ms/step - loss: 0.0037 - mae: 0.0201 - val_loss: 0.0046 - val_mae: 0.0297\n",
            "Epoch 44/50\n",
            "\u001b[1m110/110\u001b[0m \u001b[32m━━━━━━━━━━━━━━━━━━━━\u001b[0m\u001b[37m\u001b[0m \u001b[1m15s\u001b[0m 137ms/step - loss: 0.0036 - mae: 0.0199 - val_loss: 0.0048 - val_mae: 0.0305\n",
            "Epoch 45/50\n",
            "\u001b[1m110/110\u001b[0m \u001b[32m━━━━━━━━━━━━━━━━━━━━\u001b[0m\u001b[37m\u001b[0m \u001b[1m15s\u001b[0m 138ms/step - loss: 0.0036 - mae: 0.0200 - val_loss: 0.0048 - val_mae: 0.0315\n",
            "Epoch 46/50\n",
            "\u001b[1m110/110\u001b[0m \u001b[32m━━━━━━━━━━━━━━━━━━━━\u001b[0m\u001b[37m\u001b[0m \u001b[1m15s\u001b[0m 138ms/step - loss: 0.0036 - mae: 0.0200 - val_loss: 0.0046 - val_mae: 0.0293\n",
            "Epoch 47/50\n",
            "\u001b[1m110/110\u001b[0m \u001b[32m━━━━━━━━━━━━━━━━━━━━\u001b[0m\u001b[37m\u001b[0m \u001b[1m15s\u001b[0m 138ms/step - loss: 0.0035 - mae: 0.0199 - val_loss: 0.0045 - val_mae: 0.0286\n",
            "Epoch 48/50\n",
            "\u001b[1m110/110\u001b[0m \u001b[32m━━━━━━━━━━━━━━━━━━━━\u001b[0m\u001b[37m\u001b[0m \u001b[1m15s\u001b[0m 138ms/step - loss: 0.0036 - mae: 0.0200 - val_loss: 0.0047 - val_mae: 0.0293\n",
            "Epoch 49/50\n",
            "\u001b[1m110/110\u001b[0m \u001b[32m━━━━━━━━━━━━━━━━━━━━\u001b[0m\u001b[37m\u001b[0m \u001b[1m15s\u001b[0m 138ms/step - loss: 0.0036 - mae: 0.0201 - val_loss: 0.0047 - val_mae: 0.0313\n",
            "Epoch 50/50\n",
            "\u001b[1m110/110\u001b[0m \u001b[32m━━━━━━━━━━━━━━━━━━━━\u001b[0m\u001b[37m\u001b[0m \u001b[1m15s\u001b[0m 138ms/step - loss: 0.0035 - mae: 0.0199 - val_loss: 0.0046 - val_mae: 0.0285\n"
          ]
        }
      ],
      "source": [
        "history = model_lstm.fit(\n",
        "    X_train_sliced, y_train_sliced,\n",
        "    validation_data=(X_val_sliced, y_val_sliced),\n",
        "    epochs=50,\n",
        "    batch_size=8,\n",
        "    verbose=1\n",
        ")"
      ]
    },
    {
      "cell_type": "code",
      "execution_count": null,
      "id": "dc91f648-7823-4a93-9cc1-b51c20bdaaa6",
      "metadata": {
        "id": "dc91f648-7823-4a93-9cc1-b51c20bdaaa6",
        "outputId": "21d0316e-5ce9-4cce-954d-c62a1b7509f9"
      },
      "outputs": [
        {
          "name": "stdout",
          "output_type": "stream",
          "text": [
            "\u001b[1m36/36\u001b[0m \u001b[32m━━━━━━━━━━━━━━━━━━━━\u001b[0m\u001b[37m\u001b[0m \u001b[1m3s\u001b[0m 72ms/step - loss: 0.0030 - mae: 0.0163\n",
            "Test Loss: 0.003329978557303548, Test MAE: 0.017266826704144478\n"
          ]
        }
      ],
      "source": [
        "test_loss_lstm, test_mae_lstm = model_lstm.evaluate(x_test_slices, y_test_slices, verbose=1)\n",
        "print(f\"Test Loss: {test_loss_lstm}, Test MAE: {test_mae_lstm}\")"
      ]
    },
    {
      "cell_type": "code",
      "execution_count": null,
      "id": "8f128fc9-c854-4c37-b3de-52bbe75ad722",
      "metadata": {
        "id": "8f128fc9-c854-4c37-b3de-52bbe75ad722",
        "outputId": "065edacb-50df-40e0-ea60-9e26b55823c1"
      },
      "outputs": [
        {
          "name": "stdout",
          "output_type": "stream",
          "text": [
            "\u001b[1m36/36\u001b[0m \u001b[32m━━━━━━━━━━━━━━━━━━━━\u001b[0m\u001b[37m\u001b[0m \u001b[1m3s\u001b[0m 69ms/step\n"
          ]
        }
      ],
      "source": [
        "y_pred = model_lstm.predict(x_test_slices)\n",
        "\n",
        "# Aggregate predictions to match the original `y_actual_test` shape\n",
        "aggregated_predictions = np.zeros_like(y_actual_test)\n",
        "counts = np.zeros_like(y_actual_test)\n",
        "\n",
        "for i in range(len(x_actual_test)):\n",
        "    for j in range(len(x_actual_test[i]) - input_seq_length - output_seq_length + 1):\n",
        "        aggregated_predictions[i, j + input_seq_length:j + input_seq_length + output_seq_length] += y_pred[j]\n",
        "        counts[i, j + input_seq_length:j + input_seq_length + output_seq_length] += 1\n",
        "\n",
        "aggregated_predictions /= np.maximum(counts, 1)"
      ]
    },
    {
      "cell_type": "code",
      "execution_count": null,
      "id": "41781551-f745-478e-af77-57158b428d0b",
      "metadata": {
        "id": "41781551-f745-478e-af77-57158b428d0b",
        "outputId": "17a2447c-db75-4c52-b00a-cf75bf9c84e5"
      },
      "outputs": [
        {
          "name": "stdout",
          "output_type": "stream",
          "text": [
            "Aggregated MSE: 0.012048082426190376\n"
          ]
        }
      ],
      "source": [
        "mse = mean_squared_error(y_actual_test.flatten(), aggregated_predictions.flatten())\n",
        "print(f\"Aggregated MSE: {mse}\")"
      ]
    },
    {
      "cell_type": "code",
      "execution_count": null,
      "id": "47c08072-17bc-4935-ae48-7adcb36b4e70",
      "metadata": {
        "id": "47c08072-17bc-4935-ae48-7adcb36b4e70",
        "outputId": "84917859-5176-434d-e2bb-405b2e36dceb"
      },
      "outputs": [
        {
          "name": "stdout",
          "output_type": "stream",
          "text": [
            "R-squared (R2): 0.23387058318729304\n"
          ]
        }
      ],
      "source": [
        "y_test_flat = y_actual_test.flatten()\n",
        "y_pred_flat = aggregated_predictions.flatten()\n",
        "\n",
        "# Compute R-squared\n",
        "r2 = r2_score(y_test_flat, y_pred_flat)\n",
        "print(f\"R-squared (R2): {r2}\")"
      ]
    },
    {
      "cell_type": "code",
      "execution_count": null,
      "id": "0cfb6db6-23e1-4c91-8a53-7354f18698ab",
      "metadata": {
        "id": "0cfb6db6-23e1-4c91-8a53-7354f18698ab",
        "outputId": "d005a684-20e4-49fd-c24d-652538d15c25"
      },
      "outputs": [
        {
          "data": {
            "image/png": "[encoded data removed]",
            "text/plain": [
              "<Figure size 640x480 with 1 Axes>"
            ]
          },
          "metadata": {},
          "output_type": "display_data"
        }
      ],
      "source": [
        "import matplotlib.pyplot as plt\n",
        "\n",
        "# Plot training & validation loss\n",
        "plt.plot(history.history['loss'], label='Training Loss')\n",
        "plt.plot(history.history['val_loss'], label='Validation Loss')\n",
        "plt.legend()\n",
        "plt.title('Loss over epochs')\n",
        "plt.xlabel('Epochs')\n",
        "plt.ylabel('Loss')\n",
        "plt.show()"
      ]
    },
    {
      "cell_type": "markdown",
      "id": "b53dba4c-244b-45b3-9e8f-2fd3869518e2",
      "metadata": {
        "id": "b53dba4c-244b-45b3-9e8f-2fd3869518e2"
      },
      "source": [
        "## R-squared (R2): 0.3587931990623474  for CNN model\n",
        "## R-squared(R2): 0.21872717142105103 for LSTM model ,\n",
        "## comparing both CNN is doing better."
      ]
    },
    {
      "cell_type": "markdown",
      "id": "445bc6b1-e922-41f1-bafb-05ab69335f64",
      "metadata": {
        "id": "445bc6b1-e922-41f1-bafb-05ab69335f64"
      },
      "source": [
        "## MSE: 0.010083557106554508 for CNN\n",
        "## MSE: 0.012286222539842129 for LSTM model\n",
        "## the CNN model has better predictive accuracy then LSTM model"
      ]
    },
    {
      "cell_type": "markdown",
      "id": "d58d63c6-16c6-4c45-9dcd-e9d2cdfd8136",
      "metadata": {
        "id": "d58d63c6-16c6-4c45-9dcd-e9d2cdfd8136"
      },
      "source": [
        "# to save output prediction"
      ]
    },
    {
      "cell_type": "code",
      "execution_count": null,
      "id": "ee0913a8-18bb-44d7-a08f-9b9912d48402",
      "metadata": {
        "id": "ee0913a8-18bb-44d7-a08f-9b9912d48402",
        "outputId": "022ec623-f08c-41ae-cbbc-f3a1a9dde89e"
      },
      "outputs": [
        {
          "name": "stderr",
          "output_type": "stream",
          "text": [
            "/Users/abhi/anaconda3/lib/python3.11/site-packages/keras/src/saving/saving_lib.py:719: UserWarning: Skipping variable loading for optimizer 'rmsprop', because it has 14 variables whereas the saved optimizer has 26 variables. \n",
            "  saveable.load_own_variables(weights_store.get(inner_path))\n"
          ]
        }
      ],
      "source": [
        "# Save the model in the native Keras format\n",
        "model.save('flame_model.keras')\n",
        "\n",
        "# Load the model\n",
        "from tensorflow.keras.models import load_model\n",
        "model = load_model('flame_model.keras')"
      ]
    },
    {
      "cell_type": "code",
      "execution_count": null,
      "id": "4704aa7c",
      "metadata": {
        "id": "4704aa7c"
      },
      "outputs": [],
      "source": []
    }
  ],
  "metadata": {
    "kernelspec": {
      "display_name": "Python 3 (ipykernel)",
      "language": "python",
      "name": "python3"
    },
    "language_info": {
      "codemirror_mode": {
        "name": "ipython",
        "version": 3
      },
      "file_extension": ".py",
      "mimetype": "text/x-python",
      "name": "python",
      "nbconvert_exporter": "python",
      "pygments_lexer": "ipython3",
      "version": "3.11.4"
    },
    "colab": {
      "provenance": [],
      "include_colab_link": true
    }
  },
  "nbformat": 4,
  "nbformat_minor": 5
}